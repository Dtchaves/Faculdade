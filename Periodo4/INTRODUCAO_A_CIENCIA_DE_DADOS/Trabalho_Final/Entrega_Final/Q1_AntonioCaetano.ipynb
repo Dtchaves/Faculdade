{
 "cells": [
  {
   "cell_type": "markdown",
   "id": "d791723e-bd19-4e18-bd57-47ece25fcfeb",
   "metadata": {},
   "source": [
    "# É possível predizer a porcentagem de lucro de um filme baseado em seus metadados?\n",
    "\n",
    "Este arquivo tem como fito entender como a distribuição dos metadados em um filme influencia no rendimento do mesmo em seus diversos aspectos, focado no **lucro** ocasionado. De responsabilidade do aluno Antônio Neves"
   ]
  },
  {
   "cell_type": "markdown",
   "id": "94aa8401-a95e-4fde-b631-388d1673c1bb",
   "metadata": {},
   "source": [
    "# Análise dos dados"
   ]
  },
  {
   "cell_type": "markdown",
   "id": "7ca38518-ab8a-49f6-82fd-08fab8e0b1d9",
   "metadata": {
    "jp-MarkdownHeadingCollapsed": true
   },
   "source": [
    "## Importações"
   ]
  },
  {
   "cell_type": "code",
   "execution_count": 112,
   "id": "52b96b01-cc3e-496b-a0f8-ddc55052dac7",
   "metadata": {},
   "outputs": [],
   "source": [
    "import numpy as np\n",
    "import pandas as pd\n",
    "import seaborn as sns\n",
    "\n",
    "import matplotlib.pyplot as plt\n",
    "\n",
    "plt.style.use(\"seaborn-v0_8-bright\")"
   ]
  },
  {
   "cell_type": "code",
   "execution_count": 2,
   "id": "20500841-a208-4967-851b-c13064dd6f25",
   "metadata": {},
   "outputs": [],
   "source": [
    "credits = pd.read_csv(\"../data/credits.csv\", index_col=[0])\n",
    "movies = pd.read_csv(\"../data/movies_metadata.csv\", index_col=[0])"
   ]
  },
  {
   "cell_type": "markdown",
   "id": "9426154b-f768-4143-ac21-79c8a33b39d9",
   "metadata": {
    "jp-MarkdownHeadingCollapsed": true
   },
   "source": [
    "## Pré Processamento"
   ]
  },
  {
   "cell_type": "code",
   "execution_count": 3,
   "id": "710bb608-896a-4e26-9b64-d91a2d855e2f",
   "metadata": {},
   "outputs": [],
   "source": [
    "# A coluna \"adult\" possui todos os valores como falso, sendo inútil\n",
    "movies = movies.drop(\"adult\", axis=1)"
   ]
  },
  {
   "cell_type": "code",
   "execution_count": 4,
   "id": "b8e1edb2-3e3e-4916-a8fa-8c9ba05998e1",
   "metadata": {},
   "outputs": [],
   "source": [
    "movies = movies[~movies.index.duplicated(keep=\"first\")]"
   ]
  },
  {
   "cell_type": "code",
   "execution_count": 5,
   "id": "63ff48e8-b82d-46e0-b2bf-e7ffec53c8bf",
   "metadata": {},
   "outputs": [],
   "source": [
    "# Eliminando filmes duplicados\n",
    "credits = credits.reset_index().drop(\"index\", axis=1)"
   ]
  },
  {
   "cell_type": "code",
   "execution_count": 6,
   "id": "e72e6f6e-1535-4753-9f1e-cea1053c1586",
   "metadata": {},
   "outputs": [],
   "source": [
    "credits[\"movie_id\"] = credits[\"movie_id\"].astype(str)\n",
    "movies.index = movies.index.astype(str)"
   ]
  },
  {
   "cell_type": "code",
   "execution_count": 7,
   "id": "41b38ecb-344b-497c-bb0a-2b3546656f64",
   "metadata": {},
   "outputs": [],
   "source": [
    "# Retirando todos os filmes nos quais não possui informações de custo e receita final.\n",
    "movies = movies.query(\"revenue >= 1000.0 and budget >= 1000.0\")"
   ]
  },
  {
   "cell_type": "code",
   "execution_count": 8,
   "id": "047d46cc-ba7a-498e-a46c-c265429399c9",
   "metadata": {},
   "outputs": [],
   "source": [
    "# Aplicando a mesma transformação no dataset de créditos\n",
    "credits = credits[credits[\"movie_id\"].isin(movies.index)]"
   ]
  },
  {
   "cell_type": "code",
   "execution_count": 9,
   "id": "7d89544b-6db2-48f2-9f2c-4bbb5bed3cfc",
   "metadata": {},
   "outputs": [],
   "source": [
    "# Retirando todos os filmes que não possui pelo menos um ator no dataset\n",
    "movies = movies.loc[credits[\"movie_id\"].unique(), :]"
   ]
  },
  {
   "cell_type": "code",
   "execution_count": 10,
   "id": "a669b34a-af54-496e-8166-c88fdcb9bd5b",
   "metadata": {},
   "outputs": [],
   "source": [
    "movies[\"profit\"] = movies[\"revenue\"] - movies[\"budget\"]\n",
    "movies[\"profit_rate\"] = movies[\"profit\"] / movies[\"budget\"]"
   ]
  },
  {
   "cell_type": "code",
   "execution_count": 11,
   "id": "85f31444-6547-4980-a98d-25b46db697c1",
   "metadata": {},
   "outputs": [],
   "source": [
    "credits[\"profit\"] = credits[\"movie_id\"].apply(lambda row: movies.loc[row, \"profit\"])\n",
    "credits[\"profit_rate\"] = credits[\"movie_id\"].apply(lambda row: movies.loc[row, \"profit_rate\"])"
   ]
  },
  {
   "cell_type": "code",
   "execution_count": 12,
   "id": "e82f4ced-336a-4c84-a2af-0be29a20d4ab",
   "metadata": {},
   "outputs": [
    {
     "data": {
      "text/plain": [
       "0"
      ]
     },
     "execution_count": 12,
     "metadata": {},
     "output_type": "execute_result"
    }
   ],
   "source": [
    "# Não há dados faltantes no dataset de crédito na coluna de identificador único da pessoa\n",
    "credits[\"id\"].isna().sum()"
   ]
  },
  {
   "cell_type": "code",
   "execution_count": 13,
   "id": "2d90ea0d-6b4e-45c1-a1b7-d5f9ef102f60",
   "metadata": {},
   "outputs": [],
   "source": [
    "# Adicionando uma coluna nova de número de atores/atrizes por filme\n",
    "n_actors = credits.groupby(\"movie_id\").count()[\"id\"]\n",
    "\n",
    "movies = pd.merge(movies, n_actors, left_index=True, right_on=\"movie_id\")\n",
    "movies = movies.rename(columns={\"id\": \"n_actors\"})"
   ]
  },
  {
   "cell_type": "code",
   "execution_count": 14,
   "id": "2a67e816-43e9-46b1-91ee-1c1f53ae5072",
   "metadata": {},
   "outputs": [],
   "source": [
    "profit_by_actors = credits.groupby(\"id\")[\"profit_rate\"].sum()\n",
    "count_by_actors = credits.groupby(\"id\")[\"profit_rate\"].count()\n",
    "\n",
    "r_movies = movies.reset_index()\n",
    "\n",
    "def mean_actors_rate_profit_per_movie(movie):    \n",
    "    id = movie[\"movie_id\"]\n",
    "    profit_rate = movie[\"profit_rate\"]\n",
    "\n",
    "    \n",
    "    return np.array([\n",
    "        (profit_by_actors[actor] - profit_rate) / (count_by_actors[actor]-1) \n",
    "        if count_by_actors[actor] > 1\n",
    "        else 0\n",
    "        for actor in credits.query(f\"movie_id == '{id}'\")[\"id\"]  \n",
    "    ]).mean()\n",
    "        \n",
    "movies[\"mean_of_profits_per_actors\"] = r_movies.apply(mean_actors_rate_profit_per_movie, axis=1).values"
   ]
  },
  {
   "cell_type": "code",
   "execution_count": 15,
   "id": "98b725e7-6cd9-472f-bc8c-80373157e078",
   "metadata": {},
   "outputs": [],
   "source": [
    "def get_outliers(df, column, threshold=2):\n",
    "    x = df[column]\n",
    "\n",
    "    z_score = np.abs((x - x.mean()) / x.std())\n",
    "\n",
    "    outliers = df[z_score > threshold]\n",
    "\n",
    "    return outliers"
   ]
  },
  {
   "cell_type": "markdown",
   "id": "f7ea772c-c37a-4eb5-9c45-aea96b39fc3c",
   "metadata": {},
   "source": [
    "Com a possibilidade de analisar os outliers do modelo, verificamos quais são maiores que determinado **z-value**."
   ]
  },
  {
   "cell_type": "code",
   "execution_count": 16,
   "id": "8cc2d32d-d4be-491f-a384-74480a9b6992",
   "metadata": {},
   "outputs": [
    {
     "data": {
      "text/html": [
       "<div>\n",
       "<style scoped>\n",
       "    .dataframe tbody tr th:only-of-type {\n",
       "        vertical-align: middle;\n",
       "    }\n",
       "\n",
       "    .dataframe tbody tr th {\n",
       "        vertical-align: top;\n",
       "    }\n",
       "\n",
       "    .dataframe thead th {\n",
       "        text-align: right;\n",
       "    }\n",
       "</style>\n",
       "<table border=\"1\" class=\"dataframe\">\n",
       "  <thead>\n",
       "    <tr style=\"text-align: right;\">\n",
       "      <th></th>\n",
       "      <th>budget</th>\n",
       "      <th>genres</th>\n",
       "      <th>original_language</th>\n",
       "      <th>original_title</th>\n",
       "      <th>popularity</th>\n",
       "      <th>production_countries</th>\n",
       "      <th>release_date</th>\n",
       "      <th>revenue</th>\n",
       "      <th>runtime</th>\n",
       "      <th>status</th>\n",
       "      <th>title</th>\n",
       "      <th>vote_average</th>\n",
       "      <th>vote_count</th>\n",
       "      <th>profit</th>\n",
       "      <th>profit_rate</th>\n",
       "      <th>n_actors</th>\n",
       "      <th>mean_of_profits_per_actors</th>\n",
       "    </tr>\n",
       "    <tr>\n",
       "      <th>movie_id</th>\n",
       "      <th></th>\n",
       "      <th></th>\n",
       "      <th></th>\n",
       "      <th></th>\n",
       "      <th></th>\n",
       "      <th></th>\n",
       "      <th></th>\n",
       "      <th></th>\n",
       "      <th></th>\n",
       "      <th></th>\n",
       "      <th></th>\n",
       "      <th></th>\n",
       "      <th></th>\n",
       "      <th></th>\n",
       "      <th></th>\n",
       "      <th></th>\n",
       "      <th></th>\n",
       "    </tr>\n",
       "  </thead>\n",
       "  <tbody>\n",
       "    <tr>\n",
       "      <th>692</th>\n",
       "      <td>12000</td>\n",
       "      <td>Horror - Comedy - Crime</td>\n",
       "      <td>en</td>\n",
       "      <td>Pink Flamingos</td>\n",
       "      <td>5.738871</td>\n",
       "      <td>[{'iso_3166_1': 'US', 'name': 'United States o...</td>\n",
       "      <td>1972-03-12</td>\n",
       "      <td>6000000</td>\n",
       "      <td>93.0</td>\n",
       "      <td>Released</td>\n",
       "      <td>Pink Flamingos</td>\n",
       "      <td>6.2</td>\n",
       "      <td>111.0</td>\n",
       "      <td>5988000</td>\n",
       "      <td>499.000000</td>\n",
       "      <td>11</td>\n",
       "      <td>-0.056358</td>\n",
       "    </tr>\n",
       "    <tr>\n",
       "      <th>2667</th>\n",
       "      <td>60000</td>\n",
       "      <td>Horror - Mystery</td>\n",
       "      <td>en</td>\n",
       "      <td>The Blair Witch Project</td>\n",
       "      <td>14.838386</td>\n",
       "      <td>[{'iso_3166_1': 'US', 'name': 'United States o...</td>\n",
       "      <td>1999-07-14</td>\n",
       "      <td>248000000</td>\n",
       "      <td>81.0</td>\n",
       "      <td>Released</td>\n",
       "      <td>The Blair Witch Project</td>\n",
       "      <td>6.3</td>\n",
       "      <td>1090.0</td>\n",
       "      <td>247940000</td>\n",
       "      <td>4132.333333</td>\n",
       "      <td>10</td>\n",
       "      <td>0.222707</td>\n",
       "    </tr>\n",
       "    <tr>\n",
       "      <th>985</th>\n",
       "      <td>10000</td>\n",
       "      <td>Drama - Fantasy - Horror - Science Fiction</td>\n",
       "      <td>en</td>\n",
       "      <td>Eraserhead</td>\n",
       "      <td>7.871001</td>\n",
       "      <td>[{'iso_3166_1': 'US', 'name': 'United States o...</td>\n",
       "      <td>1977-03-19</td>\n",
       "      <td>7000000</td>\n",
       "      <td>89.0</td>\n",
       "      <td>Released</td>\n",
       "      <td>Eraserhead</td>\n",
       "      <td>7.5</td>\n",
       "      <td>500.0</td>\n",
       "      <td>6990000</td>\n",
       "      <td>699.000000</td>\n",
       "      <td>11</td>\n",
       "      <td>1.319663</td>\n",
       "    </tr>\n",
       "    <tr>\n",
       "      <th>9462</th>\n",
       "      <td>130000</td>\n",
       "      <td>Action - Crime</td>\n",
       "      <td>cn</td>\n",
       "      <td>猛龍過江</td>\n",
       "      <td>11.116474</td>\n",
       "      <td>[{'iso_3166_1': 'HK', 'name': 'Hong Kong'}]</td>\n",
       "      <td>1972-06-01</td>\n",
       "      <td>85000000</td>\n",
       "      <td>100.0</td>\n",
       "      <td>Released</td>\n",
       "      <td>The Way of the Dragon</td>\n",
       "      <td>7.4</td>\n",
       "      <td>235.0</td>\n",
       "      <td>84870000</td>\n",
       "      <td>652.846154</td>\n",
       "      <td>15</td>\n",
       "      <td>14.376912</td>\n",
       "    </tr>\n",
       "    <tr>\n",
       "      <th>9372</th>\n",
       "      <td>65000</td>\n",
       "      <td>Documentary - Comedy - Drama</td>\n",
       "      <td>en</td>\n",
       "      <td>Super Size Me</td>\n",
       "      <td>5.266103</td>\n",
       "      <td>[{'iso_3166_1': 'US', 'name': 'United States o...</td>\n",
       "      <td>2004-01-17</td>\n",
       "      <td>28575078</td>\n",
       "      <td>100.0</td>\n",
       "      <td>Released</td>\n",
       "      <td>Super Size Me</td>\n",
       "      <td>6.6</td>\n",
       "      <td>520.0</td>\n",
       "      <td>28510078</td>\n",
       "      <td>438.616585</td>\n",
       "      <td>15</td>\n",
       "      <td>0.000000</td>\n",
       "    </tr>\n",
       "    <tr>\n",
       "      <th>83</th>\n",
       "      <td>130000</td>\n",
       "      <td>Drama - Thriller</td>\n",
       "      <td>en</td>\n",
       "      <td>Open Water</td>\n",
       "      <td>10.652818</td>\n",
       "      <td>[{'iso_3166_1': 'US', 'name': 'United States o...</td>\n",
       "      <td>2004-08-06</td>\n",
       "      <td>54667954</td>\n",
       "      <td>79.0</td>\n",
       "      <td>Released</td>\n",
       "      <td>Open Water</td>\n",
       "      <td>5.3</td>\n",
       "      <td>320.0</td>\n",
       "      <td>54537954</td>\n",
       "      <td>419.522723</td>\n",
       "      <td>6</td>\n",
       "      <td>0.950589</td>\n",
       "    </tr>\n",
       "    <tr>\n",
       "      <th>23827</th>\n",
       "      <td>15000</td>\n",
       "      <td>Horror - Mystery</td>\n",
       "      <td>en</td>\n",
       "      <td>Paranormal Activity</td>\n",
       "      <td>12.706424</td>\n",
       "      <td>[{'iso_3166_1': 'US', 'name': 'United States o...</td>\n",
       "      <td>2007-09-14</td>\n",
       "      <td>193355800</td>\n",
       "      <td>86.0</td>\n",
       "      <td>Released</td>\n",
       "      <td>Paranormal Activity</td>\n",
       "      <td>5.9</td>\n",
       "      <td>1351.0</td>\n",
       "      <td>193340800</td>\n",
       "      <td>12889.386667</td>\n",
       "      <td>5</td>\n",
       "      <td>18.741511</td>\n",
       "    </tr>\n",
       "    <tr>\n",
       "      <th>299245</th>\n",
       "      <td>100000</td>\n",
       "      <td>Horror - Thriller</td>\n",
       "      <td>en</td>\n",
       "      <td>The Gallows</td>\n",
       "      <td>7.51505</td>\n",
       "      <td>[{'iso_3166_1': 'US', 'name': 'United States o...</td>\n",
       "      <td>2015-07-10</td>\n",
       "      <td>42664410</td>\n",
       "      <td>87.0</td>\n",
       "      <td>Released</td>\n",
       "      <td>The Gallows</td>\n",
       "      <td>4.9</td>\n",
       "      <td>370.0</td>\n",
       "      <td>42564410</td>\n",
       "      <td>425.644100</td>\n",
       "      <td>11</td>\n",
       "      <td>0.068390</td>\n",
       "    </tr>\n",
       "    <tr>\n",
       "      <th>363093</th>\n",
       "      <td>5000</td>\n",
       "      <td>Action - Adventure - History - Thriller</td>\n",
       "      <td>ko</td>\n",
       "      <td>대호</td>\n",
       "      <td>3.447894</td>\n",
       "      <td>[{'iso_3166_1': 'KR', 'name': 'South Korea'}]</td>\n",
       "      <td>2015-12-16</td>\n",
       "      <td>11083449</td>\n",
       "      <td>139.0</td>\n",
       "      <td>Released</td>\n",
       "      <td>The Tiger: An Old Hunter's Tale</td>\n",
       "      <td>7.5</td>\n",
       "      <td>17.0</td>\n",
       "      <td>11078449</td>\n",
       "      <td>2215.689800</td>\n",
       "      <td>6</td>\n",
       "      <td>0.942388</td>\n",
       "    </tr>\n",
       "  </tbody>\n",
       "</table>\n",
       "</div>"
      ],
      "text/plain": [
       "          budget                                      genres  \\\n",
       "movie_id                                                       \n",
       "692        12000                     Horror - Comedy - Crime   \n",
       "2667       60000                            Horror - Mystery   \n",
       "985        10000  Drama - Fantasy - Horror - Science Fiction   \n",
       "9462      130000                              Action - Crime   \n",
       "9372       65000                Documentary - Comedy - Drama   \n",
       "83        130000                            Drama - Thriller   \n",
       "23827      15000                            Horror - Mystery   \n",
       "299245    100000                           Horror - Thriller   \n",
       "363093      5000     Action - Adventure - History - Thriller   \n",
       "\n",
       "         original_language           original_title popularity  \\\n",
       "movie_id                                                         \n",
       "692                     en           Pink Flamingos   5.738871   \n",
       "2667                    en  The Blair Witch Project  14.838386   \n",
       "985                     en               Eraserhead   7.871001   \n",
       "9462                    cn                     猛龍過江  11.116474   \n",
       "9372                    en            Super Size Me   5.266103   \n",
       "83                      en               Open Water  10.652818   \n",
       "23827                   en      Paranormal Activity  12.706424   \n",
       "299245                  en              The Gallows    7.51505   \n",
       "363093                  ko                       대호   3.447894   \n",
       "\n",
       "                                       production_countries release_date  \\\n",
       "movie_id                                                                   \n",
       "692       [{'iso_3166_1': 'US', 'name': 'United States o...   1972-03-12   \n",
       "2667      [{'iso_3166_1': 'US', 'name': 'United States o...   1999-07-14   \n",
       "985       [{'iso_3166_1': 'US', 'name': 'United States o...   1977-03-19   \n",
       "9462            [{'iso_3166_1': 'HK', 'name': 'Hong Kong'}]   1972-06-01   \n",
       "9372      [{'iso_3166_1': 'US', 'name': 'United States o...   2004-01-17   \n",
       "83        [{'iso_3166_1': 'US', 'name': 'United States o...   2004-08-06   \n",
       "23827     [{'iso_3166_1': 'US', 'name': 'United States o...   2007-09-14   \n",
       "299245    [{'iso_3166_1': 'US', 'name': 'United States o...   2015-07-10   \n",
       "363093        [{'iso_3166_1': 'KR', 'name': 'South Korea'}]   2015-12-16   \n",
       "\n",
       "            revenue  runtime    status                            title  \\\n",
       "movie_id                                                                  \n",
       "692         6000000     93.0  Released                   Pink Flamingos   \n",
       "2667      248000000     81.0  Released          The Blair Witch Project   \n",
       "985         7000000     89.0  Released                       Eraserhead   \n",
       "9462       85000000    100.0  Released            The Way of the Dragon   \n",
       "9372       28575078    100.0  Released                    Super Size Me   \n",
       "83         54667954     79.0  Released                       Open Water   \n",
       "23827     193355800     86.0  Released              Paranormal Activity   \n",
       "299245     42664410     87.0  Released                      The Gallows   \n",
       "363093     11083449    139.0  Released  The Tiger: An Old Hunter's Tale   \n",
       "\n",
       "          vote_average  vote_count     profit   profit_rate  n_actors  \\\n",
       "movie_id                                                                \n",
       "692                6.2       111.0    5988000    499.000000        11   \n",
       "2667               6.3      1090.0  247940000   4132.333333        10   \n",
       "985                7.5       500.0    6990000    699.000000        11   \n",
       "9462               7.4       235.0   84870000    652.846154        15   \n",
       "9372               6.6       520.0   28510078    438.616585        15   \n",
       "83                 5.3       320.0   54537954    419.522723         6   \n",
       "23827              5.9      1351.0  193340800  12889.386667         5   \n",
       "299245             4.9       370.0   42564410    425.644100        11   \n",
       "363093             7.5        17.0   11078449   2215.689800         6   \n",
       "\n",
       "          mean_of_profits_per_actors  \n",
       "movie_id                              \n",
       "692                        -0.056358  \n",
       "2667                        0.222707  \n",
       "985                         1.319663  \n",
       "9462                       14.376912  \n",
       "9372                        0.000000  \n",
       "83                          0.950589  \n",
       "23827                      18.741511  \n",
       "299245                      0.068390  \n",
       "363093                      0.942388  "
      ]
     },
     "execution_count": 16,
     "metadata": {},
     "output_type": "execute_result"
    }
   ],
   "source": [
    "get_outliers(movies, \"profit_rate\", threshold=2)"
   ]
  },
  {
   "cell_type": "code",
   "execution_count": 17,
   "id": "2f89ba36-b26e-49a2-995d-f293534dda56",
   "metadata": {},
   "outputs": [
    {
     "data": {
      "text/html": [
       "<div>\n",
       "<style scoped>\n",
       "    .dataframe tbody tr th:only-of-type {\n",
       "        vertical-align: middle;\n",
       "    }\n",
       "\n",
       "    .dataframe tbody tr th {\n",
       "        vertical-align: top;\n",
       "    }\n",
       "\n",
       "    .dataframe thead th {\n",
       "        text-align: right;\n",
       "    }\n",
       "</style>\n",
       "<table border=\"1\" class=\"dataframe\">\n",
       "  <thead>\n",
       "    <tr style=\"text-align: right;\">\n",
       "      <th></th>\n",
       "      <th>budget</th>\n",
       "      <th>genres</th>\n",
       "      <th>original_language</th>\n",
       "      <th>original_title</th>\n",
       "      <th>popularity</th>\n",
       "      <th>production_countries</th>\n",
       "      <th>release_date</th>\n",
       "      <th>revenue</th>\n",
       "      <th>runtime</th>\n",
       "      <th>status</th>\n",
       "      <th>title</th>\n",
       "      <th>vote_average</th>\n",
       "      <th>vote_count</th>\n",
       "      <th>profit</th>\n",
       "      <th>profit_rate</th>\n",
       "      <th>n_actors</th>\n",
       "      <th>mean_of_profits_per_actors</th>\n",
       "    </tr>\n",
       "    <tr>\n",
       "      <th>movie_id</th>\n",
       "      <th></th>\n",
       "      <th></th>\n",
       "      <th></th>\n",
       "      <th></th>\n",
       "      <th></th>\n",
       "      <th></th>\n",
       "      <th></th>\n",
       "      <th></th>\n",
       "      <th></th>\n",
       "      <th></th>\n",
       "      <th></th>\n",
       "      <th></th>\n",
       "      <th></th>\n",
       "      <th></th>\n",
       "      <th></th>\n",
       "      <th></th>\n",
       "      <th></th>\n",
       "    </tr>\n",
       "  </thead>\n",
       "  <tbody>\n",
       "    <tr>\n",
       "      <th>2292</th>\n",
       "      <td>27000</td>\n",
       "      <td>Comedy</td>\n",
       "      <td>en</td>\n",
       "      <td>Clerks</td>\n",
       "      <td>10.513367</td>\n",
       "      <td>[{'iso_3166_1': 'US', 'name': 'United States o...</td>\n",
       "      <td>1994-09-13</td>\n",
       "      <td>3151130</td>\n",
       "      <td>92.0</td>\n",
       "      <td>Released</td>\n",
       "      <td>Clerks</td>\n",
       "      <td>7.4</td>\n",
       "      <td>769.0</td>\n",
       "      <td>3124130</td>\n",
       "      <td>115.708519</td>\n",
       "      <td>15</td>\n",
       "      <td>2.392496</td>\n",
       "    </tr>\n",
       "    <tr>\n",
       "      <th>408</th>\n",
       "      <td>1488423</td>\n",
       "      <td>Fantasy - Animation - Family</td>\n",
       "      <td>en</td>\n",
       "      <td>Snow White and the Seven Dwarfs</td>\n",
       "      <td>16.263878</td>\n",
       "      <td>[{'iso_3166_1': 'US', 'name': 'United States o...</td>\n",
       "      <td>1937-12-20</td>\n",
       "      <td>184925486</td>\n",
       "      <td>83.0</td>\n",
       "      <td>Released</td>\n",
       "      <td>Snow White and the Seven Dwarfs</td>\n",
       "      <td>6.9</td>\n",
       "      <td>1973.0</td>\n",
       "      <td>183437063</td>\n",
       "      <td>123.242561</td>\n",
       "      <td>13</td>\n",
       "      <td>29.450849</td>\n",
       "    </tr>\n",
       "    <tr>\n",
       "      <th>10331</th>\n",
       "      <td>114000</td>\n",
       "      <td>Horror</td>\n",
       "      <td>en</td>\n",
       "      <td>Night of the Living Dead</td>\n",
       "      <td>14.384198</td>\n",
       "      <td>[{'iso_3166_1': 'US', 'name': 'United States o...</td>\n",
       "      <td>1968-10-01</td>\n",
       "      <td>30000000</td>\n",
       "      <td>96.0</td>\n",
       "      <td>Released</td>\n",
       "      <td>Night of the Living Dead</td>\n",
       "      <td>7.5</td>\n",
       "      <td>591.0</td>\n",
       "      <td>29886000</td>\n",
       "      <td>262.157895</td>\n",
       "      <td>13</td>\n",
       "      <td>3.789525</td>\n",
       "    </tr>\n",
       "    <tr>\n",
       "      <th>12092</th>\n",
       "      <td>3000000</td>\n",
       "      <td>Animation - Adventure - Family - Fantasy</td>\n",
       "      <td>en</td>\n",
       "      <td>Alice in Wonderland</td>\n",
       "      <td>16.488937</td>\n",
       "      <td>[{'iso_3166_1': 'US', 'name': 'United States o...</td>\n",
       "      <td>1951-07-03</td>\n",
       "      <td>572000000</td>\n",
       "      <td>75.0</td>\n",
       "      <td>Released</td>\n",
       "      <td>Alice in Wonderland</td>\n",
       "      <td>7.0</td>\n",
       "      <td>1557.0</td>\n",
       "      <td>569000000</td>\n",
       "      <td>189.666667</td>\n",
       "      <td>15</td>\n",
       "      <td>24.825879</td>\n",
       "    </tr>\n",
       "    <tr>\n",
       "      <th>1366</th>\n",
       "      <td>1000000</td>\n",
       "      <td>Drama</td>\n",
       "      <td>en</td>\n",
       "      <td>Rocky</td>\n",
       "      <td>14.774066</td>\n",
       "      <td>[{'iso_3166_1': 'US', 'name': 'United States o...</td>\n",
       "      <td>1976-11-21</td>\n",
       "      <td>117235147</td>\n",
       "      <td>119.0</td>\n",
       "      <td>Released</td>\n",
       "      <td>Rocky</td>\n",
       "      <td>7.5</td>\n",
       "      <td>1843.0</td>\n",
       "      <td>116235147</td>\n",
       "      <td>116.235147</td>\n",
       "      <td>37</td>\n",
       "      <td>6.232454</td>\n",
       "    </tr>\n",
       "    <tr>\n",
       "      <th>4488</th>\n",
       "      <td>550000</td>\n",
       "      <td>Horror</td>\n",
       "      <td>en</td>\n",
       "      <td>Friday the 13th</td>\n",
       "      <td>12.146747</td>\n",
       "      <td>[{'iso_3166_1': 'US', 'name': 'United States o...</td>\n",
       "      <td>1980-05-09</td>\n",
       "      <td>59754601</td>\n",
       "      <td>95.0</td>\n",
       "      <td>Released</td>\n",
       "      <td>Friday the 13th</td>\n",
       "      <td>6.4</td>\n",
       "      <td>622.0</td>\n",
       "      <td>59204601</td>\n",
       "      <td>107.644729</td>\n",
       "      <td>23</td>\n",
       "      <td>2.865257</td>\n",
       "    </tr>\n",
       "    <tr>\n",
       "      <th>948</th>\n",
       "      <td>300000</td>\n",
       "      <td>Horror - Thriller</td>\n",
       "      <td>en</td>\n",
       "      <td>Halloween</td>\n",
       "      <td>13.672759</td>\n",
       "      <td>[{'iso_3166_1': 'US', 'name': 'United States o...</td>\n",
       "      <td>1978-10-25</td>\n",
       "      <td>70000000</td>\n",
       "      <td>91.0</td>\n",
       "      <td>Released</td>\n",
       "      <td>Halloween</td>\n",
       "      <td>7.4</td>\n",
       "      <td>1066.0</td>\n",
       "      <td>69700000</td>\n",
       "      <td>232.333333</td>\n",
       "      <td>25</td>\n",
       "      <td>2.629287</td>\n",
       "    </tr>\n",
       "    <tr>\n",
       "      <th>3170</th>\n",
       "      <td>858000</td>\n",
       "      <td>Animation - Drama - Family</td>\n",
       "      <td>en</td>\n",
       "      <td>Bambi</td>\n",
       "      <td>13.698132</td>\n",
       "      <td>[{'iso_3166_1': 'US', 'name': 'United States o...</td>\n",
       "      <td>1942-08-14</td>\n",
       "      <td>267447150</td>\n",
       "      <td>70.0</td>\n",
       "      <td>Released</td>\n",
       "      <td>Bambi</td>\n",
       "      <td>6.8</td>\n",
       "      <td>1450.0</td>\n",
       "      <td>266589150</td>\n",
       "      <td>310.709965</td>\n",
       "      <td>11</td>\n",
       "      <td>28.180456</td>\n",
       "    </tr>\n",
       "    <tr>\n",
       "      <th>692</th>\n",
       "      <td>12000</td>\n",
       "      <td>Horror - Comedy - Crime</td>\n",
       "      <td>en</td>\n",
       "      <td>Pink Flamingos</td>\n",
       "      <td>5.738871</td>\n",
       "      <td>[{'iso_3166_1': 'US', 'name': 'United States o...</td>\n",
       "      <td>1972-03-12</td>\n",
       "      <td>6000000</td>\n",
       "      <td>93.0</td>\n",
       "      <td>Released</td>\n",
       "      <td>Pink Flamingos</td>\n",
       "      <td>6.2</td>\n",
       "      <td>111.0</td>\n",
       "      <td>5988000</td>\n",
       "      <td>499.000000</td>\n",
       "      <td>11</td>\n",
       "      <td>-0.056358</td>\n",
       "    </tr>\n",
       "    <tr>\n",
       "      <th>30497</th>\n",
       "      <td>85000</td>\n",
       "      <td>Horror</td>\n",
       "      <td>en</td>\n",
       "      <td>The Texas Chain Saw Massacre</td>\n",
       "      <td>15.526413</td>\n",
       "      <td>[{'iso_3166_1': 'US', 'name': 'United States o...</td>\n",
       "      <td>1974-10-01</td>\n",
       "      <td>30859000</td>\n",
       "      <td>83.0</td>\n",
       "      <td>Released</td>\n",
       "      <td>The Texas Chain Saw Massacre</td>\n",
       "      <td>7.1</td>\n",
       "      <td>617.0</td>\n",
       "      <td>30774000</td>\n",
       "      <td>362.047059</td>\n",
       "      <td>17</td>\n",
       "      <td>0.390694</td>\n",
       "    </tr>\n",
       "    <tr>\n",
       "      <th>2667</th>\n",
       "      <td>60000</td>\n",
       "      <td>Horror - Mystery</td>\n",
       "      <td>en</td>\n",
       "      <td>The Blair Witch Project</td>\n",
       "      <td>14.838386</td>\n",
       "      <td>[{'iso_3166_1': 'US', 'name': 'United States o...</td>\n",
       "      <td>1999-07-14</td>\n",
       "      <td>248000000</td>\n",
       "      <td>81.0</td>\n",
       "      <td>Released</td>\n",
       "      <td>The Blair Witch Project</td>\n",
       "      <td>6.3</td>\n",
       "      <td>1090.0</td>\n",
       "      <td>247940000</td>\n",
       "      <td>4132.333333</td>\n",
       "      <td>10</td>\n",
       "      <td>0.222707</td>\n",
       "    </tr>\n",
       "    <tr>\n",
       "      <th>28172</th>\n",
       "      <td>24500</td>\n",
       "      <td>Horror</td>\n",
       "      <td>en</td>\n",
       "      <td>Blood Feast</td>\n",
       "      <td>1.783412</td>\n",
       "      <td>[{'iso_3166_1': 'US', 'name': 'United States o...</td>\n",
       "      <td>1963-06-06</td>\n",
       "      <td>4000000</td>\n",
       "      <td>67.0</td>\n",
       "      <td>Released</td>\n",
       "      <td>Blood Feast</td>\n",
       "      <td>5.3</td>\n",
       "      <td>26.0</td>\n",
       "      <td>3975500</td>\n",
       "      <td>162.265306</td>\n",
       "      <td>13</td>\n",
       "      <td>0.542971</td>\n",
       "    </tr>\n",
       "    <tr>\n",
       "      <th>838</th>\n",
       "      <td>777000</td>\n",
       "      <td>Comedy - Drama</td>\n",
       "      <td>en</td>\n",
       "      <td>American Graffiti</td>\n",
       "      <td>9.188584</td>\n",
       "      <td>[{'iso_3166_1': 'US', 'name': 'United States o...</td>\n",
       "      <td>1973-08-01</td>\n",
       "      <td>140000000</td>\n",
       "      <td>110.0</td>\n",
       "      <td>Released</td>\n",
       "      <td>American Graffiti</td>\n",
       "      <td>6.9</td>\n",
       "      <td>330.0</td>\n",
       "      <td>139223000</td>\n",
       "      <td>179.180180</td>\n",
       "      <td>26</td>\n",
       "      <td>4.520947</td>\n",
       "    </tr>\n",
       "    <tr>\n",
       "      <th>985</th>\n",
       "      <td>10000</td>\n",
       "      <td>Drama - Fantasy - Horror - Science Fiction</td>\n",
       "      <td>en</td>\n",
       "      <td>Eraserhead</td>\n",
       "      <td>7.871001</td>\n",
       "      <td>[{'iso_3166_1': 'US', 'name': 'United States o...</td>\n",
       "      <td>1977-03-19</td>\n",
       "      <td>7000000</td>\n",
       "      <td>89.0</td>\n",
       "      <td>Released</td>\n",
       "      <td>Eraserhead</td>\n",
       "      <td>7.5</td>\n",
       "      <td>500.0</td>\n",
       "      <td>6990000</td>\n",
       "      <td>699.000000</td>\n",
       "      <td>11</td>\n",
       "      <td>1.319663</td>\n",
       "    </tr>\n",
       "    <tr>\n",
       "      <th>9659</th>\n",
       "      <td>400000</td>\n",
       "      <td>Adventure - Action - Thriller - Science Fiction</td>\n",
       "      <td>en</td>\n",
       "      <td>Mad Max</td>\n",
       "      <td>11.412619</td>\n",
       "      <td>[{'iso_3166_1': 'AU', 'name': 'Australia'}]</td>\n",
       "      <td>1979-04-12</td>\n",
       "      <td>100000000</td>\n",
       "      <td>93.0</td>\n",
       "      <td>Released</td>\n",
       "      <td>Mad Max</td>\n",
       "      <td>6.6</td>\n",
       "      <td>1235.0</td>\n",
       "      <td>99600000</td>\n",
       "      <td>249.000000</td>\n",
       "      <td>18</td>\n",
       "      <td>1.206483</td>\n",
       "    </tr>\n",
       "    <tr>\n",
       "      <th>9462</th>\n",
       "      <td>130000</td>\n",
       "      <td>Action - Crime</td>\n",
       "      <td>cn</td>\n",
       "      <td>猛龍過江</td>\n",
       "      <td>11.116474</td>\n",
       "      <td>[{'iso_3166_1': 'HK', 'name': 'Hong Kong'}]</td>\n",
       "      <td>1972-06-01</td>\n",
       "      <td>85000000</td>\n",
       "      <td>100.0</td>\n",
       "      <td>Released</td>\n",
       "      <td>The Way of the Dragon</td>\n",
       "      <td>7.4</td>\n",
       "      <td>235.0</td>\n",
       "      <td>84870000</td>\n",
       "      <td>652.846154</td>\n",
       "      <td>15</td>\n",
       "      <td>14.376912</td>\n",
       "    </tr>\n",
       "    <tr>\n",
       "      <th>46691</th>\n",
       "      <td>106000</td>\n",
       "      <td>Drama</td>\n",
       "      <td>en</td>\n",
       "      <td>Joe</td>\n",
       "      <td>0.345862</td>\n",
       "      <td>[{'iso_3166_1': 'US', 'name': 'United States o...</td>\n",
       "      <td>1970-07-15</td>\n",
       "      <td>19319254</td>\n",
       "      <td>107.0</td>\n",
       "      <td>Released</td>\n",
       "      <td>Joe</td>\n",
       "      <td>5.4</td>\n",
       "      <td>9.0</td>\n",
       "      <td>19213254</td>\n",
       "      <td>181.257113</td>\n",
       "      <td>10</td>\n",
       "      <td>4.956890</td>\n",
       "    </tr>\n",
       "    <tr>\n",
       "      <th>1842</th>\n",
       "      <td>100000</td>\n",
       "      <td>Mystery - Horror - Drama</td>\n",
       "      <td>en</td>\n",
       "      <td>The Legend of Boggy Creek</td>\n",
       "      <td>1.522753</td>\n",
       "      <td>[{'iso_3166_1': 'US', 'name': 'United States o...</td>\n",
       "      <td>1972-08-01</td>\n",
       "      <td>22000000</td>\n",
       "      <td>90.0</td>\n",
       "      <td>Released</td>\n",
       "      <td>The Legend of Boggy Creek</td>\n",
       "      <td>5.6</td>\n",
       "      <td>19.0</td>\n",
       "      <td>21900000</td>\n",
       "      <td>219.000000</td>\n",
       "      <td>5</td>\n",
       "      <td>0.000000</td>\n",
       "    </tr>\n",
       "    <tr>\n",
       "      <th>12262</th>\n",
       "      <td>230000</td>\n",
       "      <td>Horror</td>\n",
       "      <td>en</td>\n",
       "      <td>The Hills Have Eyes</td>\n",
       "      <td>4.788002</td>\n",
       "      <td>[{'iso_3166_1': 'US', 'name': 'United States o...</td>\n",
       "      <td>1977-07-22</td>\n",
       "      <td>25000000</td>\n",
       "      <td>89.0</td>\n",
       "      <td>Released</td>\n",
       "      <td>The Hills Have Eyes</td>\n",
       "      <td>6.1</td>\n",
       "      <td>145.0</td>\n",
       "      <td>24770000</td>\n",
       "      <td>107.695652</td>\n",
       "      <td>13</td>\n",
       "      <td>1.630260</td>\n",
       "    </tr>\n",
       "    <tr>\n",
       "      <th>618</th>\n",
       "      <td>100000</td>\n",
       "      <td>Drama - History - War</td>\n",
       "      <td>en</td>\n",
       "      <td>The Birth of a Nation</td>\n",
       "      <td>5.113205</td>\n",
       "      <td>[{'iso_3166_1': 'US', 'name': 'United States o...</td>\n",
       "      <td>1915-02-08</td>\n",
       "      <td>11000000</td>\n",
       "      <td>193.0</td>\n",
       "      <td>Released</td>\n",
       "      <td>The Birth of a Nation</td>\n",
       "      <td>6.4</td>\n",
       "      <td>109.0</td>\n",
       "      <td>10900000</td>\n",
       "      <td>109.000000</td>\n",
       "      <td>49</td>\n",
       "      <td>5.173854</td>\n",
       "    </tr>\n",
       "    <tr>\n",
       "      <th>29473</th>\n",
       "      <td>70000</td>\n",
       "      <td>Comedy - Action - Crime</td>\n",
       "      <td>en</td>\n",
       "      <td>Let's Do It Again</td>\n",
       "      <td>1.411831</td>\n",
       "      <td>[{'iso_3166_1': 'US', 'name': 'United States o...</td>\n",
       "      <td>1975-10-11</td>\n",
       "      <td>11800000</td>\n",
       "      <td>110.0</td>\n",
       "      <td>Released</td>\n",
       "      <td>Let's Do It Again</td>\n",
       "      <td>7.7</td>\n",
       "      <td>10.0</td>\n",
       "      <td>11730000</td>\n",
       "      <td>167.571429</td>\n",
       "      <td>8</td>\n",
       "      <td>7.098846</td>\n",
       "    </tr>\n",
       "    <tr>\n",
       "      <th>9461</th>\n",
       "      <td>850000</td>\n",
       "      <td>Action - Crime - Thriller</td>\n",
       "      <td>en</td>\n",
       "      <td>Enter the Dragon</td>\n",
       "      <td>10.687757</td>\n",
       "      <td>[{'iso_3166_1': 'HK', 'name': 'Hong Kong'}, {'...</td>\n",
       "      <td>1973-08-17</td>\n",
       "      <td>90000000</td>\n",
       "      <td>99.0</td>\n",
       "      <td>Released</td>\n",
       "      <td>Enter the Dragon</td>\n",
       "      <td>7.3</td>\n",
       "      <td>489.0</td>\n",
       "      <td>89150000</td>\n",
       "      <td>104.882353</td>\n",
       "      <td>22</td>\n",
       "      <td>62.173910</td>\n",
       "    </tr>\n",
       "    <tr>\n",
       "      <th>8193</th>\n",
       "      <td>400000</td>\n",
       "      <td>Comedy</td>\n",
       "      <td>en</td>\n",
       "      <td>Napoleon Dynamite</td>\n",
       "      <td>10.287419</td>\n",
       "      <td>[{'iso_3166_1': 'US', 'name': 'United States o...</td>\n",
       "      <td>2004-06-11</td>\n",
       "      <td>46118097</td>\n",
       "      <td>95.0</td>\n",
       "      <td>Released</td>\n",
       "      <td>Napoleon Dynamite</td>\n",
       "      <td>6.7</td>\n",
       "      <td>567.0</td>\n",
       "      <td>45718097</td>\n",
       "      <td>114.295243</td>\n",
       "      <td>13</td>\n",
       "      <td>1.056305</td>\n",
       "    </tr>\n",
       "    <tr>\n",
       "      <th>9372</th>\n",
       "      <td>65000</td>\n",
       "      <td>Documentary - Comedy - Drama</td>\n",
       "      <td>en</td>\n",
       "      <td>Super Size Me</td>\n",
       "      <td>5.266103</td>\n",
       "      <td>[{'iso_3166_1': 'US', 'name': 'United States o...</td>\n",
       "      <td>2004-01-17</td>\n",
       "      <td>28575078</td>\n",
       "      <td>100.0</td>\n",
       "      <td>Released</td>\n",
       "      <td>Super Size Me</td>\n",
       "      <td>6.6</td>\n",
       "      <td>520.0</td>\n",
       "      <td>28510078</td>\n",
       "      <td>438.616585</td>\n",
       "      <td>15</td>\n",
       "      <td>0.000000</td>\n",
       "    </tr>\n",
       "    <tr>\n",
       "      <th>83</th>\n",
       "      <td>130000</td>\n",
       "      <td>Drama - Thriller</td>\n",
       "      <td>en</td>\n",
       "      <td>Open Water</td>\n",
       "      <td>10.652818</td>\n",
       "      <td>[{'iso_3166_1': 'US', 'name': 'United States o...</td>\n",
       "      <td>2004-08-06</td>\n",
       "      <td>54667954</td>\n",
       "      <td>79.0</td>\n",
       "      <td>Released</td>\n",
       "      <td>Open Water</td>\n",
       "      <td>5.3</td>\n",
       "      <td>320.0</td>\n",
       "      <td>54537954</td>\n",
       "      <td>419.522723</td>\n",
       "      <td>6</td>\n",
       "      <td>0.950589</td>\n",
       "    </tr>\n",
       "    <tr>\n",
       "      <th>9687</th>\n",
       "      <td>169000</td>\n",
       "      <td>Comedy</td>\n",
       "      <td>en</td>\n",
       "      <td>Keeping Mum</td>\n",
       "      <td>5.742659</td>\n",
       "      <td>[{'iso_3166_1': 'GB', 'name': 'United Kingdom'}]</td>\n",
       "      <td>2005-12-02</td>\n",
       "      <td>18564702</td>\n",
       "      <td>103.0</td>\n",
       "      <td>Released</td>\n",
       "      <td>Keeping Mum</td>\n",
       "      <td>6.5</td>\n",
       "      <td>165.0</td>\n",
       "      <td>18395702</td>\n",
       "      <td>108.850308</td>\n",
       "      <td>21</td>\n",
       "      <td>2.192758</td>\n",
       "    </tr>\n",
       "    <tr>\n",
       "      <th>5723</th>\n",
       "      <td>160000</td>\n",
       "      <td>Drama - Music - Romance</td>\n",
       "      <td>en</td>\n",
       "      <td>Once</td>\n",
       "      <td>10.357064</td>\n",
       "      <td>[{'iso_3166_1': 'IE', 'name': 'Ireland'}]</td>\n",
       "      <td>2007-03-23</td>\n",
       "      <td>20710513</td>\n",
       "      <td>85.0</td>\n",
       "      <td>Released</td>\n",
       "      <td>Once</td>\n",
       "      <td>7.4</td>\n",
       "      <td>457.0</td>\n",
       "      <td>20550513</td>\n",
       "      <td>128.440706</td>\n",
       "      <td>11</td>\n",
       "      <td>0.490465</td>\n",
       "    </tr>\n",
       "    <tr>\n",
       "      <th>23827</th>\n",
       "      <td>15000</td>\n",
       "      <td>Horror - Mystery</td>\n",
       "      <td>en</td>\n",
       "      <td>Paranormal Activity</td>\n",
       "      <td>12.706424</td>\n",
       "      <td>[{'iso_3166_1': 'US', 'name': 'United States o...</td>\n",
       "      <td>2007-09-14</td>\n",
       "      <td>193355800</td>\n",
       "      <td>86.0</td>\n",
       "      <td>Released</td>\n",
       "      <td>Paranormal Activity</td>\n",
       "      <td>5.9</td>\n",
       "      <td>1351.0</td>\n",
       "      <td>193340800</td>\n",
       "      <td>12889.386667</td>\n",
       "      <td>5</td>\n",
       "      <td>18.741511</td>\n",
       "    </tr>\n",
       "    <tr>\n",
       "      <th>299245</th>\n",
       "      <td>100000</td>\n",
       "      <td>Horror - Thriller</td>\n",
       "      <td>en</td>\n",
       "      <td>The Gallows</td>\n",
       "      <td>7.51505</td>\n",
       "      <td>[{'iso_3166_1': 'US', 'name': 'United States o...</td>\n",
       "      <td>2015-07-10</td>\n",
       "      <td>42664410</td>\n",
       "      <td>87.0</td>\n",
       "      <td>Released</td>\n",
       "      <td>The Gallows</td>\n",
       "      <td>4.9</td>\n",
       "      <td>370.0</td>\n",
       "      <td>42564410</td>\n",
       "      <td>425.644100</td>\n",
       "      <td>11</td>\n",
       "      <td>0.068390</td>\n",
       "    </tr>\n",
       "    <tr>\n",
       "      <th>363093</th>\n",
       "      <td>5000</td>\n",
       "      <td>Action - Adventure - History - Thriller</td>\n",
       "      <td>ko</td>\n",
       "      <td>대호</td>\n",
       "      <td>3.447894</td>\n",
       "      <td>[{'iso_3166_1': 'KR', 'name': 'South Korea'}]</td>\n",
       "      <td>2015-12-16</td>\n",
       "      <td>11083449</td>\n",
       "      <td>139.0</td>\n",
       "      <td>Released</td>\n",
       "      <td>The Tiger: An Old Hunter's Tale</td>\n",
       "      <td>7.5</td>\n",
       "      <td>17.0</td>\n",
       "      <td>11078449</td>\n",
       "      <td>2215.689800</td>\n",
       "      <td>6</td>\n",
       "      <td>0.942388</td>\n",
       "    </tr>\n",
       "    <tr>\n",
       "      <th>428449</th>\n",
       "      <td>100000</td>\n",
       "      <td>Drama - Fantasy - Romance</td>\n",
       "      <td>en</td>\n",
       "      <td>A Ghost Story</td>\n",
       "      <td>24.339781</td>\n",
       "      <td>[{'iso_3166_1': 'US', 'name': 'United States o...</td>\n",
       "      <td>2017-07-07</td>\n",
       "      <td>15584255</td>\n",
       "      <td>92.0</td>\n",
       "      <td>Released</td>\n",
       "      <td>A Ghost Story</td>\n",
       "      <td>6.8</td>\n",
       "      <td>95.0</td>\n",
       "      <td>15484255</td>\n",
       "      <td>154.842550</td>\n",
       "      <td>16</td>\n",
       "      <td>0.840190</td>\n",
       "    </tr>\n",
       "  </tbody>\n",
       "</table>\n",
       "</div>"
      ],
      "text/plain": [
       "           budget                                           genres  \\\n",
       "movie_id                                                             \n",
       "2292        27000                                           Comedy   \n",
       "408       1488423                     Fantasy - Animation - Family   \n",
       "10331      114000                                           Horror   \n",
       "12092     3000000         Animation - Adventure - Family - Fantasy   \n",
       "1366      1000000                                            Drama   \n",
       "4488       550000                                           Horror   \n",
       "948        300000                                Horror - Thriller   \n",
       "3170       858000                       Animation - Drama - Family   \n",
       "692         12000                          Horror - Comedy - Crime   \n",
       "30497       85000                                           Horror   \n",
       "2667        60000                                 Horror - Mystery   \n",
       "28172       24500                                           Horror   \n",
       "838        777000                                   Comedy - Drama   \n",
       "985         10000       Drama - Fantasy - Horror - Science Fiction   \n",
       "9659       400000  Adventure - Action - Thriller - Science Fiction   \n",
       "9462       130000                                   Action - Crime   \n",
       "46691      106000                                            Drama   \n",
       "1842       100000                         Mystery - Horror - Drama   \n",
       "12262      230000                                           Horror   \n",
       "618        100000                            Drama - History - War   \n",
       "29473       70000                          Comedy - Action - Crime   \n",
       "9461       850000                        Action - Crime - Thriller   \n",
       "8193       400000                                           Comedy   \n",
       "9372        65000                     Documentary - Comedy - Drama   \n",
       "83         130000                                 Drama - Thriller   \n",
       "9687       169000                                           Comedy   \n",
       "5723       160000                          Drama - Music - Romance   \n",
       "23827       15000                                 Horror - Mystery   \n",
       "299245     100000                                Horror - Thriller   \n",
       "363093       5000          Action - Adventure - History - Thriller   \n",
       "428449     100000                        Drama - Fantasy - Romance   \n",
       "\n",
       "         original_language                   original_title popularity  \\\n",
       "movie_id                                                                 \n",
       "2292                    en                           Clerks  10.513367   \n",
       "408                     en  Snow White and the Seven Dwarfs  16.263878   \n",
       "10331                   en         Night of the Living Dead  14.384198   \n",
       "12092                   en              Alice in Wonderland  16.488937   \n",
       "1366                    en                            Rocky  14.774066   \n",
       "4488                    en                  Friday the 13th  12.146747   \n",
       "948                     en                        Halloween  13.672759   \n",
       "3170                    en                            Bambi  13.698132   \n",
       "692                     en                   Pink Flamingos   5.738871   \n",
       "30497                   en     The Texas Chain Saw Massacre  15.526413   \n",
       "2667                    en          The Blair Witch Project  14.838386   \n",
       "28172                   en                      Blood Feast   1.783412   \n",
       "838                     en                American Graffiti   9.188584   \n",
       "985                     en                       Eraserhead   7.871001   \n",
       "9659                    en                          Mad Max  11.412619   \n",
       "9462                    cn                             猛龍過江  11.116474   \n",
       "46691                   en                              Joe   0.345862   \n",
       "1842                    en        The Legend of Boggy Creek   1.522753   \n",
       "12262                   en              The Hills Have Eyes   4.788002   \n",
       "618                     en            The Birth of a Nation   5.113205   \n",
       "29473                   en                Let's Do It Again   1.411831   \n",
       "9461                    en                 Enter the Dragon  10.687757   \n",
       "8193                    en                Napoleon Dynamite  10.287419   \n",
       "9372                    en                    Super Size Me   5.266103   \n",
       "83                      en                       Open Water  10.652818   \n",
       "9687                    en                      Keeping Mum   5.742659   \n",
       "5723                    en                             Once  10.357064   \n",
       "23827                   en              Paranormal Activity  12.706424   \n",
       "299245                  en                      The Gallows    7.51505   \n",
       "363093                  ko                               대호   3.447894   \n",
       "428449                  en                    A Ghost Story  24.339781   \n",
       "\n",
       "                                       production_countries release_date  \\\n",
       "movie_id                                                                   \n",
       "2292      [{'iso_3166_1': 'US', 'name': 'United States o...   1994-09-13   \n",
       "408       [{'iso_3166_1': 'US', 'name': 'United States o...   1937-12-20   \n",
       "10331     [{'iso_3166_1': 'US', 'name': 'United States o...   1968-10-01   \n",
       "12092     [{'iso_3166_1': 'US', 'name': 'United States o...   1951-07-03   \n",
       "1366      [{'iso_3166_1': 'US', 'name': 'United States o...   1976-11-21   \n",
       "4488      [{'iso_3166_1': 'US', 'name': 'United States o...   1980-05-09   \n",
       "948       [{'iso_3166_1': 'US', 'name': 'United States o...   1978-10-25   \n",
       "3170      [{'iso_3166_1': 'US', 'name': 'United States o...   1942-08-14   \n",
       "692       [{'iso_3166_1': 'US', 'name': 'United States o...   1972-03-12   \n",
       "30497     [{'iso_3166_1': 'US', 'name': 'United States o...   1974-10-01   \n",
       "2667      [{'iso_3166_1': 'US', 'name': 'United States o...   1999-07-14   \n",
       "28172     [{'iso_3166_1': 'US', 'name': 'United States o...   1963-06-06   \n",
       "838       [{'iso_3166_1': 'US', 'name': 'United States o...   1973-08-01   \n",
       "985       [{'iso_3166_1': 'US', 'name': 'United States o...   1977-03-19   \n",
       "9659            [{'iso_3166_1': 'AU', 'name': 'Australia'}]   1979-04-12   \n",
       "9462            [{'iso_3166_1': 'HK', 'name': 'Hong Kong'}]   1972-06-01   \n",
       "46691     [{'iso_3166_1': 'US', 'name': 'United States o...   1970-07-15   \n",
       "1842      [{'iso_3166_1': 'US', 'name': 'United States o...   1972-08-01   \n",
       "12262     [{'iso_3166_1': 'US', 'name': 'United States o...   1977-07-22   \n",
       "618       [{'iso_3166_1': 'US', 'name': 'United States o...   1915-02-08   \n",
       "29473     [{'iso_3166_1': 'US', 'name': 'United States o...   1975-10-11   \n",
       "9461      [{'iso_3166_1': 'HK', 'name': 'Hong Kong'}, {'...   1973-08-17   \n",
       "8193      [{'iso_3166_1': 'US', 'name': 'United States o...   2004-06-11   \n",
       "9372      [{'iso_3166_1': 'US', 'name': 'United States o...   2004-01-17   \n",
       "83        [{'iso_3166_1': 'US', 'name': 'United States o...   2004-08-06   \n",
       "9687       [{'iso_3166_1': 'GB', 'name': 'United Kingdom'}]   2005-12-02   \n",
       "5723              [{'iso_3166_1': 'IE', 'name': 'Ireland'}]   2007-03-23   \n",
       "23827     [{'iso_3166_1': 'US', 'name': 'United States o...   2007-09-14   \n",
       "299245    [{'iso_3166_1': 'US', 'name': 'United States o...   2015-07-10   \n",
       "363093        [{'iso_3166_1': 'KR', 'name': 'South Korea'}]   2015-12-16   \n",
       "428449    [{'iso_3166_1': 'US', 'name': 'United States o...   2017-07-07   \n",
       "\n",
       "            revenue  runtime    status                            title  \\\n",
       "movie_id                                                                  \n",
       "2292        3151130     92.0  Released                           Clerks   \n",
       "408       184925486     83.0  Released  Snow White and the Seven Dwarfs   \n",
       "10331      30000000     96.0  Released         Night of the Living Dead   \n",
       "12092     572000000     75.0  Released              Alice in Wonderland   \n",
       "1366      117235147    119.0  Released                            Rocky   \n",
       "4488       59754601     95.0  Released                  Friday the 13th   \n",
       "948        70000000     91.0  Released                        Halloween   \n",
       "3170      267447150     70.0  Released                            Bambi   \n",
       "692         6000000     93.0  Released                   Pink Flamingos   \n",
       "30497      30859000     83.0  Released     The Texas Chain Saw Massacre   \n",
       "2667      248000000     81.0  Released          The Blair Witch Project   \n",
       "28172       4000000     67.0  Released                      Blood Feast   \n",
       "838       140000000    110.0  Released                American Graffiti   \n",
       "985         7000000     89.0  Released                       Eraserhead   \n",
       "9659      100000000     93.0  Released                          Mad Max   \n",
       "9462       85000000    100.0  Released            The Way of the Dragon   \n",
       "46691      19319254    107.0  Released                              Joe   \n",
       "1842       22000000     90.0  Released        The Legend of Boggy Creek   \n",
       "12262      25000000     89.0  Released              The Hills Have Eyes   \n",
       "618        11000000    193.0  Released            The Birth of a Nation   \n",
       "29473      11800000    110.0  Released                Let's Do It Again   \n",
       "9461       90000000     99.0  Released                 Enter the Dragon   \n",
       "8193       46118097     95.0  Released                Napoleon Dynamite   \n",
       "9372       28575078    100.0  Released                    Super Size Me   \n",
       "83         54667954     79.0  Released                       Open Water   \n",
       "9687       18564702    103.0  Released                      Keeping Mum   \n",
       "5723       20710513     85.0  Released                             Once   \n",
       "23827     193355800     86.0  Released              Paranormal Activity   \n",
       "299245     42664410     87.0  Released                      The Gallows   \n",
       "363093     11083449    139.0  Released  The Tiger: An Old Hunter's Tale   \n",
       "428449     15584255     92.0  Released                    A Ghost Story   \n",
       "\n",
       "          vote_average  vote_count     profit   profit_rate  n_actors  \\\n",
       "movie_id                                                                \n",
       "2292               7.4       769.0    3124130    115.708519        15   \n",
       "408                6.9      1973.0  183437063    123.242561        13   \n",
       "10331              7.5       591.0   29886000    262.157895        13   \n",
       "12092              7.0      1557.0  569000000    189.666667        15   \n",
       "1366               7.5      1843.0  116235147    116.235147        37   \n",
       "4488               6.4       622.0   59204601    107.644729        23   \n",
       "948                7.4      1066.0   69700000    232.333333        25   \n",
       "3170               6.8      1450.0  266589150    310.709965        11   \n",
       "692                6.2       111.0    5988000    499.000000        11   \n",
       "30497              7.1       617.0   30774000    362.047059        17   \n",
       "2667               6.3      1090.0  247940000   4132.333333        10   \n",
       "28172              5.3        26.0    3975500    162.265306        13   \n",
       "838                6.9       330.0  139223000    179.180180        26   \n",
       "985                7.5       500.0    6990000    699.000000        11   \n",
       "9659               6.6      1235.0   99600000    249.000000        18   \n",
       "9462               7.4       235.0   84870000    652.846154        15   \n",
       "46691              5.4         9.0   19213254    181.257113        10   \n",
       "1842               5.6        19.0   21900000    219.000000         5   \n",
       "12262              6.1       145.0   24770000    107.695652        13   \n",
       "618                6.4       109.0   10900000    109.000000        49   \n",
       "29473              7.7        10.0   11730000    167.571429         8   \n",
       "9461               7.3       489.0   89150000    104.882353        22   \n",
       "8193               6.7       567.0   45718097    114.295243        13   \n",
       "9372               6.6       520.0   28510078    438.616585        15   \n",
       "83                 5.3       320.0   54537954    419.522723         6   \n",
       "9687               6.5       165.0   18395702    108.850308        21   \n",
       "5723               7.4       457.0   20550513    128.440706        11   \n",
       "23827              5.9      1351.0  193340800  12889.386667         5   \n",
       "299245             4.9       370.0   42564410    425.644100        11   \n",
       "363093             7.5        17.0   11078449   2215.689800         6   \n",
       "428449             6.8        95.0   15484255    154.842550        16   \n",
       "\n",
       "          mean_of_profits_per_actors  \n",
       "movie_id                              \n",
       "2292                        2.392496  \n",
       "408                        29.450849  \n",
       "10331                       3.789525  \n",
       "12092                      24.825879  \n",
       "1366                        6.232454  \n",
       "4488                        2.865257  \n",
       "948                         2.629287  \n",
       "3170                       28.180456  \n",
       "692                        -0.056358  \n",
       "30497                       0.390694  \n",
       "2667                        0.222707  \n",
       "28172                       0.542971  \n",
       "838                         4.520947  \n",
       "985                         1.319663  \n",
       "9659                        1.206483  \n",
       "9462                       14.376912  \n",
       "46691                       4.956890  \n",
       "1842                        0.000000  \n",
       "12262                       1.630260  \n",
       "618                         5.173854  \n",
       "29473                       7.098846  \n",
       "9461                       62.173910  \n",
       "8193                        1.056305  \n",
       "9372                        0.000000  \n",
       "83                          0.950589  \n",
       "9687                        2.192758  \n",
       "5723                        0.490465  \n",
       "23827                      18.741511  \n",
       "299245                      0.068390  \n",
       "363093                      0.942388  \n",
       "428449                      0.840190  "
      ]
     },
     "execution_count": 17,
     "metadata": {},
     "output_type": "execute_result"
    }
   ],
   "source": [
    "get_outliers(movies, \"profit_rate\", threshold=0.5)"
   ]
  },
  {
   "cell_type": "markdown",
   "id": "fdba1af2-fd4f-4542-bcb9-568aab130546",
   "metadata": {
    "jp-MarkdownHeadingCollapsed": true
   },
   "source": [
    "## Análise do Lucro"
   ]
  },
  {
   "cell_type": "markdown",
   "id": "6d24b9f4-40d3-4d31-9fd2-2ac5e48bd804",
   "metadata": {},
   "source": [
    "**Boxplot da taxa de lucro dos filmes, entendendo sua distribuição**"
   ]
  },
  {
   "cell_type": "code",
   "execution_count": 18,
   "id": "42ffbcda-a16a-41fe-a173-29f2e569bda1",
   "metadata": {},
   "outputs": [
    {
     "data": {
      "image/png": "[encoded data removed]",
      "text/plain": [
       "<Figure size 640x480 with 1 Axes>"
      ]
     },
     "metadata": {},
     "output_type": "display_data"
    }
   ],
   "source": [
    "plt.boxplot(movies[\"profit_rate\"])\n",
    "plt.title(\"Boxplot do lucro dos filmes\")\n",
    "plt.ylabel(\"Taxa de Lucro\")\n",
    "plt.show()"
   ]
  },
  {
   "cell_type": "markdown",
   "id": "8b58e898-a191-4930-afd1-a3045f65019a",
   "metadata": {},
   "source": [
    "Há uma concentração bem grande perto de zero e um acerca de taxa de lucro. Nota-se também que os outliers são dominantes no plot."
   ]
  },
  {
   "cell_type": "markdown",
   "id": "2bbdd771-9d08-4707-9a7c-fb2efb89db69",
   "metadata": {},
   "source": [
    "**Relação entre a quantidade de atores do filme e o lucro obtido**"
   ]
  },
  {
   "cell_type": "code",
   "execution_count": 19,
   "id": "d7b7e73c-b322-4762-9443-2f880855b048",
   "metadata": {},
   "outputs": [
    {
     "data": {
      "image/png": "[encoded data removed]",
      "text/plain": [
       "<Figure size 640x480 with 1 Axes>"
      ]
     },
     "metadata": {},
     "output_type": "display_data"
    }
   ],
   "source": [
    "movies.groupby(\"n_actors\")[\"profit_rate\"].median().plot()\n",
    "plt.xlabel(\"Número de atores\")\n",
    "plt.ylabel(\"Taxa de lucro obtida\")\n",
    "plt.title(\"Relação entre a quantidade de atores do filme e o lucro obtido\")\n",
    "plt.show()"
   ]
  },
  {
   "cell_type": "markdown",
   "id": "db573a3a-d8ba-407c-a384-728dee9db4d0",
   "metadata": {},
   "source": [
    "A quantidade de atores/atrizes em um filme não aparenta ter correlação visual com a taxa de lucro"
   ]
  },
  {
   "cell_type": "markdown",
   "id": "43adf9d8-fd8d-4b2a-b3f5-981c5ca5419c",
   "metadata": {},
   "source": [
    "**Quantidade de filmes feitos por países**"
   ]
  },
  {
   "cell_type": "code",
   "execution_count": 20,
   "id": "0fe76c6a-16e9-4591-9665-0d7d6adf8112",
   "metadata": {},
   "outputs": [
    {
     "data": {
      "image/png": "[encoded data removed]",
      "text/plain": [
       "<Figure size 1500x600 with 1 Axes>"
      ]
     },
     "metadata": {},
     "output_type": "display_data"
    }
   ],
   "source": [
    "plt.figure(figsize=(15, 6))\n",
    "movies.groupby(\"original_language\")[\"profit_rate\"].count().plot(kind=\"bar\")\n",
    "plt.title(\"Relação entre língua original e quantidade de filmes feitos\")\n",
    "plt.xlabel(\"Idioma original\")\n",
    "plt.ylabel(\"Número de filmes\")\n",
    "plt.show()"
   ]
  },
  {
   "cell_type": "markdown",
   "id": "99b199d5-021e-4fd2-997f-2bc4e0102be0",
   "metadata": {},
   "source": [
    "Há uma grande concentração de filmes de língua inglesa."
   ]
  },
  {
   "cell_type": "markdown",
   "id": "44c6bdb7-9219-47ab-b4a9-1db873dd530a",
   "metadata": {},
   "source": [
    "**O filme ser de determinado local, tem impacto no lucro?**"
   ]
  },
  {
   "cell_type": "code",
   "execution_count": 21,
   "id": "9a6b7338-60b8-4b71-b166-3b3532f459b4",
   "metadata": {},
   "outputs": [
    {
     "data": {
      "image/png": "[encoded data removed]",
      "text/plain": [
       "<Figure size 1500x600 with 1 Axes>"
      ]
     },
     "metadata": {},
     "output_type": "display_data"
    }
   ],
   "source": [
    "plt.figure(figsize=(15, 6))\n",
    "movies.groupby(\"original_language\")[\"profit_rate\"].median().plot(kind=\"bar\")\n",
    "plt.title(\"Relação entre língua original e taxa de lucro mediana\")\n",
    "plt.xlabel(\"Idioma original\")\n",
    "plt.ylabel(\"Taxa de lucro\")\n",
    "plt.show()"
   ]
  },
  {
   "cell_type": "markdown",
   "id": "8daf1cad-983e-4702-9683-30176b01d483",
   "metadata": {},
   "source": [
    "O idioma não deve significar profundamente algo acerca do lucro, pois como a maioria dos filmes são de idiona nativo língua inglesa, os outros não possuem quantidade o suficiente para supor uma correlação."
   ]
  },
  {
   "cell_type": "markdown",
   "id": "e7df6179-6828-4c69-98d0-4aa18189800b",
   "metadata": {},
   "source": [
    "**Tempo de filme vs Lucro**"
   ]
  },
  {
   "cell_type": "code",
   "execution_count": 22,
   "id": "aafd9239-063f-40d8-9419-19d6dd0f1aad",
   "metadata": {},
   "outputs": [
    {
     "data": {
      "image/png": "[encoded data removed]",
      "text/plain": [
       "<Figure size 640x480 with 1 Axes>"
      ]
     },
     "metadata": {},
     "output_type": "display_data"
    }
   ],
   "source": [
    "without_outliers = movies.drop(get_outliers(movies, \"profit_rate\", threshold=0.5).index)\n",
    "plt.plot(without_outliers[\"runtime\"].values, without_outliers[\"profit_rate\"].values, \"bo\")\n",
    "plt.title(\"Relação entre tempo de filme e taxa de lucro\")\n",
    "plt.xlabel(\"Tempo de filme (min)\")\n",
    "plt.ylabel(\"Taxa de lucro\")\n",
    "plt.show()"
   ]
  },
  {
   "cell_type": "markdown",
   "id": "059d9376-6f3d-4e00-9ee2-595e1ce352f0",
   "metadata": {},
   "source": [
    "**Média de taxa de lucro dos atores do filme vs próprio filme**\n",
    "\n",
    "Visualização do gráfico é confusa, pois o valor de comparação não leva em consideração a remoção de outliers, mas o dado de entrada sim"
   ]
  },
  {
   "cell_type": "code",
   "execution_count": 23,
   "id": "1c24e767-23ba-40fb-86df-066e20e81e6c",
   "metadata": {},
   "outputs": [
    {
     "data": {
      "image/png": "[encoded data removed]",
      "text/plain": [
       "<Figure size 640x480 with 1 Axes>"
      ]
     },
     "metadata": {},
     "output_type": "display_data"
    }
   ],
   "source": [
    "without_outliers = movies.drop(get_outliers(movies, \"profit_rate\", threshold=0.5).index)\n",
    "plt.plot(without_outliers[\"mean_of_profits_per_actors\"].values, without_outliers[\"profit_rate\"].values, \"bo\")\n",
    "plt.title(\"Relação entre média de lucro dos atores e taxa de lucro do filme\")\n",
    "plt.xlabel(\"Média de taxa de lucro média dos atores\")\n",
    "plt.ylabel(\"Taxa de lucro\")\n",
    "plt.show()"
   ]
  },
  {
   "cell_type": "markdown",
   "id": "40f79625-95e7-4c96-8f88-b67cafc12dd9",
   "metadata": {
    "jp-MarkdownHeadingCollapsed": true
   },
   "source": [
    "## Teste de Hipótese"
   ]
  },
  {
   "cell_type": "markdown",
   "id": "581ae17e-ed62-43b0-aef5-bb5a972bf1fd",
   "metadata": {},
   "source": [
    "Durante a análise, vimos que o tempo de duração do filme pode ser um fator impactante, mesmo controvérsio, pois em tese o número de filmes com 100 minutos de duração são os maiores. Com isso, podemos elaborar a nossa hipótese nula e a alternativa\n",
    "\n",
    "$H_0 =$ **tempo de filme não possui relação com lucro** <br />\n",
    "    $H_1 =$ **existe uma provável relação**\n",
    "\n",
    "Iremos assumir um nível de significância de **5%**"
   ]
  },
  {
   "cell_type": "code",
   "execution_count": 24,
   "id": "e781a806-f340-445b-9ecd-0d814b60e441",
   "metadata": {},
   "outputs": [
    {
     "data": {
      "text/plain": [
       "SignificanceResult(statistic=0.06358195247549236, pvalue=3.6446257279166434e-06)"
      ]
     },
     "execution_count": 24,
     "metadata": {},
     "output_type": "execute_result"
    }
   ],
   "source": [
    "import scipy.stats as ss\n",
    "\n",
    "without_na = movies.dropna(subset=[\"runtime\"])\n",
    "\n",
    "rate_profit = without_na[\"profit_rate\"].values\n",
    "runtime = without_na[\"runtime\"].values\n",
    "\n",
    "ss.spearmanr(rate_profit, runtime)"
   ]
  },
  {
   "cell_type": "code",
   "execution_count": 25,
   "id": "f2b61a95-055a-4c2a-8259-f5f68a0f05c0",
   "metadata": {},
   "outputs": [
    {
     "data": {
      "text/plain": [
       "(100.0, 163)"
      ]
     },
     "execution_count": 25,
     "metadata": {},
     "output_type": "execute_result"
    }
   ],
   "source": [
    "unique_values, counts = np.unique(movies[\"runtime\"].values, return_counts=True)\n",
    "index_of_max_count = np.argmax(counts)\n",
    "unique_values[index_of_max_count], counts[index_of_max_count]"
   ]
  },
  {
   "cell_type": "markdown",
   "id": "d7e0769e-3719-4d03-9bd6-8ee47aef1c7e",
   "metadata": {},
   "source": [
    "Nota-se que o índice de correlação, que é entre -1 e 1, está bem longe dos extremos, indicando quase nula a correlação, aceitando a hipótese nula, mas o p-value é baixo e menor que o nível de significância, o que significa que a distribuição não pode ser explicada ao acaso. E, como foi previsto, a moda da duração dos filmes é 100 minutos, valor que no gráfico é notável que há uma maior quantidade de filmes com taxa de lucro.\n",
    "\n",
    "Agora será feito o mesmo teste, mas para os dados de popularidade.\n",
    "\n",
    "$H_0 =$ **popularidade de filme não possui relação com lucro** <br />\n",
    "    $H_1 =$ **existe uma provável relação**\n",
    "\n",
    "Iremos assumir um nível de significância de **5%**"
   ]
  },
  {
   "cell_type": "code",
   "execution_count": 26,
   "id": "3cffa970-ffc5-4fcf-a984-4afe63b4cc81",
   "metadata": {},
   "outputs": [
    {
     "data": {
      "text/plain": [
       "SignificanceResult(statistic=-0.03160971700799668, pvalue=0.0214263965206702)"
      ]
     },
     "execution_count": 26,
     "metadata": {},
     "output_type": "execute_result"
    }
   ],
   "source": [
    "rate_profit = without_na[\"profit_rate\"].values\n",
    "popularity = without_na[\"popularity\"].values\n",
    "\n",
    "ss.spearmanr(rate_profit, popularity)"
   ]
  },
  {
   "cell_type": "markdown",
   "id": "4eb9b740-f1e4-4546-9d61-e979dea0d2d1",
   "metadata": {},
   "source": [
    "Os mesmos resultados vistos no último teste se equivalem aqui.\n",
    "\n",
    "Agora será feito o mesmo teste, mas para os dados de média da média de taxa de lucro dos atores dos filmes.\n",
    "\n",
    "$H_0 =$ **os atores presentes possuem no filme não influenciam no lucro** <br />\n",
    "    $H_1 =$ **existe uma provável relação**\n",
    "\n",
    "Iremos assumir um nível de significância de **5%**"
   ]
  },
  {
   "cell_type": "code",
   "execution_count": 27,
   "id": "3884eec1-b9ea-4e04-ae1e-a7f01f30c105",
   "metadata": {},
   "outputs": [
    {
     "data": {
      "text/plain": [
       "SignificanceResult(statistic=0.17168431686297494, pvalue=2.5635754004269416e-36)"
      ]
     },
     "execution_count": 27,
     "metadata": {},
     "output_type": "execute_result"
    }
   ],
   "source": [
    "rate_profit = without_na[\"profit_rate\"].values\n",
    "mean_of_profits_per_actors = without_na[\"mean_of_profits_per_actors\"].values\n",
    "\n",
    "ss.spearmanr(rate_profit, mean_of_profits_per_actors)"
   ]
  },
  {
   "cell_type": "markdown",
   "id": "904a382f-247c-46ac-a675-cdea5f94c49b",
   "metadata": {},
   "source": [
    "Subsequentemente, foi notado uma correlação maior, mas não significante, e um p-value menor que o nível de significância."
   ]
  },
  {
   "cell_type": "markdown",
   "id": "bd38ff17-8409-4512-ae8d-d201fc195af0",
   "metadata": {},
   "source": [
    "# Regressão + Classificação"
   ]
  },
  {
   "cell_type": "markdown",
   "id": "ea8f33be-0a61-47a9-8e61-f3adaa41006c",
   "metadata": {},
   "source": [
    "## Pré Processamento para ML"
   ]
  },
  {
   "cell_type": "code",
   "execution_count": 166,
   "id": "fd0c3f93-c9f4-4223-861e-8c0631f6004a",
   "metadata": {},
   "outputs": [],
   "source": [
    "features = [\"budget\", \"runtime\", \"vote_average\", \"popularity\", \"vote_count\", \"n_actors\", \"mean_of_profits_per_actors\"]\n",
    "\n",
    "movies = movies.dropna()\n",
    "\n",
    "X = np.asarray(movies[features]).astype(np.float32)\n",
    "y = np.asarray(movies[\"profit_rate\"]).astype(np.float32)"
   ]
  },
  {
   "cell_type": "code",
   "execution_count": 167,
   "id": "4d813660-ead2-4650-9044-cb690e691763",
   "metadata": {},
   "outputs": [],
   "source": [
    "from sklearn.preprocessing import StandardScaler\n",
    "\n",
    "# Caso aplicasse a z-normalização no y, mas testes foram realizados e viu que o erro absoluto médio era maior\n",
    "y_mean = y.mean()\n",
    "y_std = y.std()\n",
    "\n",
    "X = StandardScaler().fit_transform(X)"
   ]
  },
  {
   "cell_type": "code",
   "execution_count": 189,
   "id": "b5cef565-9ca4-4b19-bb03-41cd021bdf4d",
   "metadata": {},
   "outputs": [],
   "source": [
    "from sklearn.model_selection import train_test_split\n",
    "\n",
    "X_train, X_test, y_train, y_test = train_test_split(X, y, random_state=15, test_size=0.2)"
   ]
  },
  {
   "cell_type": "markdown",
   "id": "94fade77-f5ce-4e8d-ba48-6c36b12b7e87",
   "metadata": {},
   "source": [
    "### Regressão Linear"
   ]
  },
  {
   "cell_type": "code",
   "execution_count": 169,
   "id": "a9f2b3f0-c350-489d-afb7-80ae79dc7edb",
   "metadata": {},
   "outputs": [],
   "source": [
    "from sklearn.metrics import mean_absolute_error\n",
    "from sklearn.linear_model import LinearRegression"
   ]
  },
  {
   "cell_type": "code",
   "execution_count": 170,
   "id": "f13c9930-710d-4776-8fea-f958b1349860",
   "metadata": {},
   "outputs": [],
   "source": [
    "model = LinearRegression()\n",
    "model.fit(X_train, y_train)\n",
    "predicted = model.predict(X_test)"
   ]
  },
  {
   "cell_type": "code",
   "execution_count": 171,
   "id": "c2b6b98e-ae38-4cf1-9aaf-a569a4135448",
   "metadata": {},
   "outputs": [
    {
     "name": "stdout",
     "output_type": "stream",
     "text": [
      "MAE: 11.86780071258545\n"
     ]
    }
   ],
   "source": [
    "mae = mean_absolute_error(predicted, y_test)\n",
    "\n",
    "print(f\"MAE: {mae}\")"
   ]
  },
  {
   "cell_type": "markdown",
   "id": "94c9c817-c641-4e8a-870f-25fdd8b9688c",
   "metadata": {},
   "source": [
    "### MLP"
   ]
  },
  {
   "cell_type": "markdown",
   "id": "2dc643f5-e0ad-44e9-9c7a-afc19316a87c",
   "metadata": {},
   "source": [
    "Para testar outro modelo além da regressão linear, foi realizado uma rede neural de múltiplas camadas para realizar a tarefa de regressão. Possui 5 camadas, sendo 4 com função de ativação \"relu\" e uma de Dropout para fitos de regularização."
   ]
  },
  {
   "cell_type": "code",
   "execution_count": 172,
   "id": "78cd7506-1ffe-494d-aabc-eb8c382a1d48",
   "metadata": {},
   "outputs": [],
   "source": [
    "import tensorflow as tf\n",
    "from tensorflow import keras"
   ]
  },
  {
   "cell_type": "code",
   "execution_count": 184,
   "id": "4a2093f9-3773-4bca-a693-b4cb2f3920f1",
   "metadata": {},
   "outputs": [
    {
     "name": "stdout",
     "output_type": "stream",
     "text": [
      "Model: \"sequential_7\"\n",
      "_________________________________________________________________\n",
      " Layer (type)                Output Shape              Param #   \n",
      "=================================================================\n",
      " dense_28 (Dense)            (None, 32)                256       \n",
      "                                                                 \n",
      " dense_29 (Dense)            (None, 64)                2112      \n",
      "                                                                 \n",
      " dropout_7 (Dropout)         (None, 64)                0         \n",
      "                                                                 \n",
      " dense_30 (Dense)            (None, 32)                2080      \n",
      "                                                                 \n",
      " dense_31 (Dense)            (None, 1)                 33        \n",
      "                                                                 \n",
      "=================================================================\n",
      "Total params: 4481 (17.50 KB)\n",
      "Trainable params: 4481 (17.50 KB)\n",
      "Non-trainable params: 0 (0.00 Byte)\n",
      "_________________________________________________________________\n"
     ]
    }
   ],
   "source": [
    "regression_model = keras.Sequential([\n",
    "    keras.layers.Dense(32, activation=\"relu\", input_shape=(X_train.shape[1],)),\n",
    "    keras.layers.Dense(64, activation=\"relu\"),\n",
    "    keras.layers.Dropout(rate=0.2),\n",
    "    keras.layers.Dense(32, activation=\"relu\"),\n",
    "    keras.layers.Dense(1, activation=\"relu\")\n",
    "])\n",
    "\n",
    "regression_model.summary()"
   ]
  },
  {
   "cell_type": "code",
   "execution_count": 191,
   "id": "48e6b0d2-a553-4dc9-850a-c0a2b5445eff",
   "metadata": {},
   "outputs": [],
   "source": [
    "regression_model.compile(optimizer='adam', loss='mean_absolute_error', metrics=['mae'])"
   ]
  },
  {
   "cell_type": "code",
   "execution_count": 192,
   "id": "c7f42333-492d-4036-8656-c09ccdb90c3b",
   "metadata": {},
   "outputs": [
    {
     "name": "stdout",
     "output_type": "stream",
     "text": [
      "Epoch 1/20\n",
      "67/67 [==============================] - 1s 2ms/step - loss: 8.4620 - mae: 8.4620\n",
      "Epoch 2/20\n",
      "67/67 [==============================] - 0s 2ms/step - loss: 8.4525 - mae: 8.4525\n",
      "Epoch 3/20\n",
      "67/67 [==============================] - 0s 2ms/step - loss: 8.4543 - mae: 8.4543\n",
      "Epoch 4/20\n",
      "67/67 [==============================] - 0s 2ms/step - loss: 8.4463 - mae: 8.4463\n",
      "Epoch 5/20\n",
      "67/67 [==============================] - 0s 2ms/step - loss: 8.4382 - mae: 8.4382\n",
      "Epoch 6/20\n",
      "67/67 [==============================] - 0s 2ms/step - loss: 8.4413 - mae: 8.4413\n",
      "Epoch 7/20\n",
      "67/67 [==============================] - 0s 2ms/step - loss: 8.4392 - mae: 8.4392\n",
      "Epoch 8/20\n",
      "67/67 [==============================] - 0s 2ms/step - loss: 8.4511 - mae: 8.4511\n",
      "Epoch 9/20\n",
      "67/67 [==============================] - 0s 2ms/step - loss: 8.4233 - mae: 8.4233\n",
      "Epoch 10/20\n",
      "67/67 [==============================] - 0s 2ms/step - loss: 8.4397 - mae: 8.4397\n",
      "Epoch 11/20\n",
      "67/67 [==============================] - 0s 2ms/step - loss: 8.4266 - mae: 8.4266\n",
      "Epoch 12/20\n",
      "67/67 [==============================] - 0s 2ms/step - loss: 8.4232 - mae: 8.4232\n",
      "Epoch 13/20\n",
      "67/67 [==============================] - 0s 2ms/step - loss: 8.4303 - mae: 8.4303\n",
      "Epoch 14/20\n",
      "67/67 [==============================] - 0s 2ms/step - loss: 8.4207 - mae: 8.4207\n",
      "Epoch 15/20\n",
      "67/67 [==============================] - 0s 2ms/step - loss: 8.4133 - mae: 8.4133\n",
      "Epoch 16/20\n",
      "67/67 [==============================] - 0s 2ms/step - loss: 8.4177 - mae: 8.4177\n",
      "Epoch 17/20\n",
      "67/67 [==============================] - 0s 2ms/step - loss: 8.3992 - mae: 8.3992\n",
      "Epoch 18/20\n",
      "67/67 [==============================] - 0s 2ms/step - loss: 8.3992 - mae: 8.3992\n",
      "Epoch 19/20\n",
      "67/67 [==============================] - 0s 2ms/step - loss: 8.3967 - mae: 8.3967\n",
      "Epoch 20/20\n",
      "67/67 [==============================] - 0s 2ms/step - loss: 8.3960 - mae: 8.3960\n"
     ]
    },
    {
     "data": {
      "text/plain": [
       "<keras.src.callbacks.History at 0x20a936bb690>"
      ]
     },
     "execution_count": 192,
     "metadata": {},
     "output_type": "execute_result"
    }
   ],
   "source": [
    "regression_model.fit(X_train, y_train, epochs=20, batch_size=64)"
   ]
  },
  {
   "cell_type": "code",
   "execution_count": 193,
   "id": "74c93554-3511-4408-bbfa-24e5afeac060",
   "metadata": {},
   "outputs": [
    {
     "name": "stdout",
     "output_type": "stream",
     "text": [
      "34/34 [==============================] - 0s 974us/step\n"
     ]
    }
   ],
   "source": [
    "predicted = regression_model.predict(X_test)"
   ]
  },
  {
   "cell_type": "code",
   "execution_count": 194,
   "id": "9d58bf0c-95c7-4c81-9aff-e523b78b5545",
   "metadata": {},
   "outputs": [
    {
     "data": {
      "text/plain": [
       "4.7864966"
      ]
     },
     "execution_count": 194,
     "metadata": {},
     "output_type": "execute_result"
    }
   ],
   "source": [
    "mean_absolute_error(predicted, y_test)"
   ]
  },
  {
   "cell_type": "markdown",
   "id": "f03aa44f-40c7-4182-a826-742bb6cf16c3",
   "metadata": {},
   "source": [
    "Conseguimos um erro absoluto médio por volta de 5 no mínimo em MLP, ao contrário de por volta 11.86 em Regressão Linear.\n",
    "\n",
    "Independente, 5 é um MAE bem alto para nossa tarefa, pois não é uma forma muito confiável de predizer taxa de lucro ao dizer que seu filme pode retornar entre -4 e 6 de taxa de lucro, supondo 1 como central."
   ]
  },
  {
   "cell_type": "markdown",
   "id": "26b86de6-cc57-43c6-bc0a-2211e05251bf",
   "metadata": {},
   "source": [
    "## Classificação\n",
    "\n",
    "Devido a tarefa de regressão não ser satisfatória em resultados de predição, agora queremos saber se o filme deu lucro ou não, ou seja, se a taxa foi maior que um ou menor que um"
   ]
  },
  {
   "cell_type": "code",
   "execution_count": 148,
   "id": "739ea776-efa2-447f-84de-ebd493f1705e",
   "metadata": {},
   "outputs": [],
   "source": [
    "import scipy.stats as st\n",
    "\n",
    "from scipy.stats import norm\n",
    "from sklearn.model_selection import cross_val_score\n",
    "from sklearn.ensemble import RandomForestClassifier\n",
    "from sklearn.metrics import accuracy_score, f1_score, ConfusionMatrixDisplay"
   ]
  },
  {
   "cell_type": "code",
   "execution_count": 149,
   "id": "61631427-862e-4fd5-be23-ae37707fa567",
   "metadata": {},
   "outputs": [],
   "source": [
    "y = np.asarray((movies[\"profit_rate\"] > 1).astype(int))"
   ]
  },
  {
   "cell_type": "markdown",
   "id": "395dbd9e-3f9c-453d-b344-acb104cfda31",
   "metadata": {},
   "source": [
    "Como forma de controle, assumimos que o modelo é burro, ou seja, dado a probabilidade de dar lucro igual a frequência de filmes que dão lucro, observamos como nossa distribuição de Bernoulli, com uma variação do acaso, consegue explicar o intervalo dado, com 99,99% de confiança."
   ]
  },
  {
   "cell_type": "code",
   "execution_count": 150,
   "id": "a5cd3feb-ff08-4f02-a821-ed943a72cedc",
   "metadata": {},
   "outputs": [
    {
     "data": {
      "image/png": "[encoded data removed]",
      "text/plain": [
       "<Figure size 800x600 with 1 Axes>"
      ]
     },
     "metadata": {},
     "output_type": "display_data"
    }
   ],
   "source": [
    "p = y.mean()\n",
    "st.sem(y)\n",
    "\n",
    "inf, sup = st.t.interval(confidence=0.9999, df=len(y)-1,\n",
    "    loc=p,\n",
    "    scale=st.sem(y)\n",
    ")\n",
    "\n",
    "x = np.linspace(p-0.2, p+0.2, 1000)\n",
    "\n",
    "pdf = norm.pdf(x, p, p*(1-p))\n",
    "\n",
    "plt.figure(figsize=(8, 6))\n",
    "plt.plot(x, pdf, color='blue', linewidth=2, label='PDF')\n",
    "plt.title(\"Distribuição normal de médias de classificações dadas ao acaso\")\n",
    "plt.xlabel(\"Acurácia da classificação\")\n",
    "plt.ylabel(\"Densidade\")\n",
    "\n",
    "plt.axvline(x=inf, color='r', linestyle='--', label=f\"inf = {round(inf, 3)}\")\n",
    "plt.axvline(x=sup, color='g', linestyle='--', label=f\"sup = {round(sup, 3)}\")\n",
    "\n",
    "plt.legend()\n",
    "plt.show()"
   ]
  },
  {
   "cell_type": "markdown",
   "id": "a43bd869-2f66-4045-822e-3f6cbbde6bf2",
   "metadata": {},
   "source": [
    "### Random Forest"
   ]
  },
  {
   "cell_type": "markdown",
   "id": "7826bb86-4eee-4d21-b4b1-1d5d3982894f",
   "metadata": {},
   "source": [
    "O primeiro teste é com Random Forest, onde com 10 estimadores foi realizado uma *cross validation* com 10 separações, e após calculado o intervalo de confiança da ambas as métricas utilizadas."
   ]
  },
  {
   "cell_type": "code",
   "execution_count": 151,
   "id": "8b33286b-b553-4444-bd12-2f420b4c7113",
   "metadata": {},
   "outputs": [],
   "source": [
    "forest = RandomForestClassifier(n_estimators=10, random_state=15)"
   ]
  },
  {
   "cell_type": "code",
   "execution_count": 152,
   "id": "4ce3c8ac-d5da-4d00-933c-b133e1adcd48",
   "metadata": {},
   "outputs": [],
   "source": [
    "scores_macro = cross_val_score(forest, X, y, cv=10, scoring='f1_macro',n_jobs=-1)\n",
    "scores_accuracy = cross_val_score(forest, X, y, cv=10, scoring='accuracy')\n",
    "\n",
    "interval_macro=st.t.interval(confidence=0.95, df=len(scores_macro)-1,\n",
    "      loc=np.mean(scores_macro),\n",
    "      scale=st.sem(scores_macro)\n",
    ")\n",
    "\n",
    "interval_accuracy=st.t.interval(confidence=0.95, df=len(scores_accuracy)-1,\n",
    "      loc=np.mean(scores_accuracy),\n",
    "      scale=st.sem(scores_accuracy)\n",
    ")"
   ]
  },
  {
   "cell_type": "code",
   "execution_count": 153,
   "id": "d2233c32-0365-49b3-9b35-1dc2f30a525e",
   "metadata": {},
   "outputs": [
    {
     "data": {
      "text/html": [
       "<div>\n",
       "<style scoped>\n",
       "    .dataframe tbody tr th:only-of-type {\n",
       "        vertical-align: middle;\n",
       "    }\n",
       "\n",
       "    .dataframe tbody tr th {\n",
       "        vertical-align: top;\n",
       "    }\n",
       "\n",
       "    .dataframe thead th {\n",
       "        text-align: right;\n",
       "    }\n",
       "</style>\n",
       "<table border=\"1\" class=\"dataframe\">\n",
       "  <thead>\n",
       "    <tr style=\"text-align: right;\">\n",
       "      <th></th>\n",
       "      <th>Média</th>\n",
       "      <th>Intervalo de Confiança</th>\n",
       "    </tr>\n",
       "  </thead>\n",
       "  <tbody>\n",
       "    <tr>\n",
       "      <th>F1 Macro</th>\n",
       "      <td>0.6973</td>\n",
       "      <td>0.01775</td>\n",
       "    </tr>\n",
       "    <tr>\n",
       "      <th>Acurácia</th>\n",
       "      <td>0.6991</td>\n",
       "      <td>0.01745</td>\n",
       "    </tr>\n",
       "  </tbody>\n",
       "</table>\n",
       "</div>"
      ],
      "text/plain": [
       "           Média  Intervalo de Confiança\n",
       "F1 Macro  0.6973                 0.01775\n",
       "Acurácia  0.6991                 0.01745"
      ]
     },
     "execution_count": 153,
     "metadata": {},
     "output_type": "execute_result"
    }
   ],
   "source": [
    "pd.DataFrame(data=[\n",
    "        [round(np.mean(scores_macro), 4), round(np.mean(scores_macro) - interval_macro[0], 5)],\n",
    "        [round(np.mean(scores_accuracy), 4), round(np.mean(scores_accuracy) - interval_accuracy[0], 5)],\n",
    "    ], columns=[\"Média\", \"Intervalo de Confiança\"], index=[\"F1 Macro\", \"Acurácia\"])"
   ]
  },
  {
   "cell_type": "markdown",
   "id": "ecd9dd3f-0376-4541-b3c9-107e7ff185bb",
   "metadata": {},
   "source": [
    "Nossa acurácia supera uma previsão *dummy* de lucro, ficando bastante fora do intervalo de confiança. "
   ]
  },
  {
   "cell_type": "code",
   "execution_count": 154,
   "id": "2ef06f2d-b0b4-48bf-a7ba-b6f98bd38da6",
   "metadata": {},
   "outputs": [
    {
     "data": {
      "image/png": "[encoded data removed]",
      "text/plain": [
       "<Figure size 640x480 with 2 Axes>"
      ]
     },
     "metadata": {},
     "output_type": "display_data"
    }
   ],
   "source": [
    "X_train, X_test, y_train, y_test = train_test_split(X, y, test_size=0.25, random_state=42)\n",
    "\n",
    "forest.fit(X_train, y_train)\n",
    "\n",
    "y_pred = forest.predict(X_test)\n",
    "\n",
    "ConfusionMatrixDisplay.from_predictions(y_test, y_pred)\n",
    "plt.ylabel(\"Original\")\n",
    "plt.xlabel(\"Previsto\")\n",
    "plt.title(\"RF de classificação de lucro de filme\")\n",
    "plt.tight_layout()\n",
    "plt.show()"
   ]
  },
  {
   "cell_type": "markdown",
   "id": "c0f147e9-c57a-4e55-9ab8-19333111e3fe",
   "metadata": {},
   "source": [
    "### MLP"
   ]
  },
  {
   "cell_type": "markdown",
   "id": "744d4f40-dc98-416c-8bcf-d2b8ebff7b58",
   "metadata": {},
   "source": [
    "Da mesma forma que na tarefa de regressão, na de classificação iremos utilizar o mesmo modelo de rede neural, com a última camada sendo a função de ativação *sigmoid* para retornar entre 0 e 1, no caso, a probabilidade do filme dar lucro."
   ]
  },
  {
   "cell_type": "code",
   "execution_count": 155,
   "id": "6a042cf0-1af2-4465-a724-01579e6c2f33",
   "metadata": {},
   "outputs": [
    {
     "name": "stdout",
     "output_type": "stream",
     "text": [
      "Model: \"sequential_5\"\n",
      "_________________________________________________________________\n",
      " Layer (type)                Output Shape              Param #   \n",
      "=================================================================\n",
      " dense_20 (Dense)            (None, 32)                256       \n",
      "                                                                 \n",
      " dense_21 (Dense)            (None, 64)                2112      \n",
      "                                                                 \n",
      " dropout_5 (Dropout)         (None, 64)                0         \n",
      "                                                                 \n",
      " dense_22 (Dense)            (None, 32)                2080      \n",
      "                                                                 \n",
      " dense_23 (Dense)            (None, 1)                 33        \n",
      "                                                                 \n",
      "=================================================================\n",
      "Total params: 4481 (17.50 KB)\n",
      "Trainable params: 4481 (17.50 KB)\n",
      "Non-trainable params: 0 (0.00 Byte)\n",
      "_________________________________________________________________\n"
     ]
    }
   ],
   "source": [
    "classification_model = keras.Sequential([\n",
    "    keras.layers.Dense(32, activation=\"relu\", input_shape=(X_train.shape[1],)),\n",
    "    keras.layers.Dense(64, activation=\"relu\"),\n",
    "    keras.layers.Dropout(rate=0.2),\n",
    "    keras.layers.Dense(32, activation=\"relu\"),\n",
    "    keras.layers.Dense(1, activation=\"sigmoid\")\n",
    "])\n",
    "\n",
    "classification_model.summary()"
   ]
  },
  {
   "cell_type": "code",
   "execution_count": 156,
   "id": "6d3bb521-74f5-4fe6-9a26-7425da5f9d51",
   "metadata": {},
   "outputs": [],
   "source": [
    "classification_model.compile(optimizer='adam', loss='binary_crossentropy', metrics=['accuracy'])"
   ]
  },
  {
   "cell_type": "code",
   "execution_count": 159,
   "id": "4bd85408-56e3-489b-b3a7-7407df1f572a",
   "metadata": {},
   "outputs": [
    {
     "name": "stdout",
     "output_type": "stream",
     "text": [
      "Epoch 1/10\n",
      "124/124 [==============================] - 0s 2ms/step - loss: 0.5354 - accuracy: 0.7228 - val_loss: 0.4858 - val_accuracy: 0.7492\n",
      "Epoch 2/10\n",
      "124/124 [==============================] - 0s 2ms/step - loss: 0.5354 - accuracy: 0.7266 - val_loss: 0.5047 - val_accuracy: 0.7432\n",
      "Epoch 3/10\n",
      "124/124 [==============================] - 0s 2ms/step - loss: 0.5403 - accuracy: 0.7289 - val_loss: 0.4983 - val_accuracy: 0.7251\n",
      "Epoch 4/10\n",
      "124/124 [==============================] - 0s 2ms/step - loss: 0.5362 - accuracy: 0.7195 - val_loss: 0.4966 - val_accuracy: 0.7341\n",
      "Epoch 5/10\n",
      "124/124 [==============================] - 0s 2ms/step - loss: 0.5353 - accuracy: 0.7221 - val_loss: 0.5066 - val_accuracy: 0.7341\n",
      "Epoch 6/10\n",
      "124/124 [==============================] - 0s 2ms/step - loss: 0.5335 - accuracy: 0.7296 - val_loss: 0.4939 - val_accuracy: 0.7492\n",
      "Epoch 7/10\n",
      "124/124 [==============================] - 0s 2ms/step - loss: 0.5300 - accuracy: 0.7286 - val_loss: 0.4863 - val_accuracy: 0.7462\n",
      "Epoch 8/10\n",
      "124/124 [==============================] - 0s 2ms/step - loss: 0.5309 - accuracy: 0.7269 - val_loss: 0.4903 - val_accuracy: 0.7462\n",
      "Epoch 9/10\n",
      "124/124 [==============================] - 0s 2ms/step - loss: 0.5297 - accuracy: 0.7261 - val_loss: 0.4924 - val_accuracy: 0.7492\n",
      "Epoch 10/10\n",
      "124/124 [==============================] - 0s 2ms/step - loss: 0.5315 - accuracy: 0.7246 - val_loss: 0.4869 - val_accuracy: 0.7432\n"
     ]
    },
    {
     "data": {
      "text/plain": [
       "<keras.src.callbacks.History at 0x20a969dfc50>"
      ]
     },
     "execution_count": 159,
     "metadata": {},
     "output_type": "execute_result"
    }
   ],
   "source": [
    "X_test, X_validation, y_test, y_validation = train_test_split(X_test, y_test, test_size=0.5, random_state=42)\n",
    "\n",
    "classification_model.fit(X_train, y_train, epochs=10, batch_size=32, validation_data=(X_validation, y_validation))"
   ]
  },
  {
   "cell_type": "code",
   "execution_count": 163,
   "id": "bc728aaf-a223-42a2-aa01-310b41e67bdd",
   "metadata": {},
   "outputs": [
    {
     "name": "stdout",
     "output_type": "stream",
     "text": [
      "11/11 [==============================] - 0s 1ms/step\n",
      "F1: 0.7003154574132492\n",
      "Acurácia: 0.7121212121212122\n"
     ]
    }
   ],
   "source": [
    "predicted = classification_model.predict(X_test)\n",
    "\n",
    "threshold = 0.5\n",
    "\n",
    "result = (predicted > threshold).astype(int)\n",
    "\n",
    "print(f\"F1: {f1_score(result, y_test)}\")\n",
    "print(f\"Acurácia: {accuracy_score(result, y_test)}\")"
   ]
  },
  {
   "cell_type": "markdown",
   "id": "008644fc-39ea-4fff-ad7c-d5b8306107fa",
   "metadata": {},
   "source": [
    "Além de superar uma previsão *dummy* de lucro, teve um certo aumento de acurácia e F1 macro sobre o RF. "
   ]
  },
  {
   "cell_type": "markdown",
   "id": "f4ba0e50-3bf2-4527-888a-fefc158bda38",
   "metadata": {},
   "source": [
    "# Conclusões"
   ]
  },
  {
   "cell_type": "markdown",
   "id": "e7418a7c-e74a-4661-ab6c-0eebe8a0844e",
   "metadata": {},
   "source": [
    "Relembrando nossa pergunta:\n",
    "\n",
    "**É possível predizer a porcentagem de lucro de um filme baseado em seus metadados?**\n",
    "\n",
    "Na análise dos dados, foi notado uma quantidade grande de outliers presente nos dados, o que condiz com o que o mercado de cinema possui, pois a maioria dos filmes tendem a manter uma média de lucro perto de 1, mas alguns são disruptivos o suficiente ou para ser um sucesso de bilheteria, ou para ser um total fracasso. Dito isso, predizer tais outliers é importante e por isso não foi excluído na análise.\n",
    "\n",
    "Subsequentemente, de forma visual em gráficos, foi plotado possíveis relações entre *features* e a variável-alvo: taxa de lucro, além de outros plots para maior entendimento da distribuição das features. Visualmente, não foi encontrado nenhuma correlação forte, concluindo que o dataset é bem esparso em seu espaço amostral.\n",
    "\n",
    "Nos testes de hipóteses, queríamos ver se possíveis features possuem correlação alta com a nossa variável. Para tal, foi utilizado a Correlação de Spearman, onde a partir da utilização do posto de ordenação entre as variáveis, calcula a correlação normal. Além disso, a função retorna o *p-value*, ou seja, qual a chance daquela correlação ser explicada ao acaso. Todas trouxeram baixas correlações, aceitando a hipótese nula, e um *p-value* bem baixo.\n",
    "\n",
    "Na regressão, a partir de selecionar features que foram analisadas do dataset como dados de entrada do modelo, foi testado Regressão Linear e uma simples MLP. Ambas não retornaram um resultado satisfatório, o que fez o grupo concluir que não é possível predizer numericamente a porcentagem de lucro de um filme.\n",
    "\n",
    "Já na classificação, verificamos nosso grupo controle: um modelo que obedece a frequência em que os filmes dão lucro, que é próximo a 50%. Queremos que nossos modelos de classificação sejam melhor que o *dummy model*, e foram, com taxas que chegaram a 70% de acurácia e Macro F1\n",
    "\n",
    "*Portanto, predizer numericamente os dados não é possível, devido ao mercado do cinema ser bem variável nos dados, mas predizer em classificação, com um problema de decisão: o filme vai dar lucro ou não, é promissor, devido a encontrar taxas de acerto bem maior que o acaso.*"
   ]
  }
 ],
 "metadata": {
  "kernelspec": {
   "display_name": "Python 3 (ipykernel)",
   "language": "python",
   "name": "python3"
  },
  "language_info": {
   "codemirror_mode": {
    "name": "ipython",
    "version": 3
   },
   "file_extension": ".py",
   "mimetype": "text/x-python",
   "name": "python",
   "nbconvert_exporter": "python",
   "pygments_lexer": "ipython3",
   "version": "3.11.0"
  }
 },
 "nbformat": 4,
 "nbformat_minor": 5
}
