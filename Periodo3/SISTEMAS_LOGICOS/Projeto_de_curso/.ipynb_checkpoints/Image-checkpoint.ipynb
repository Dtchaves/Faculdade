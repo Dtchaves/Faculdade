{
 "cells": [
  {
   "cell_type": "code",
   "execution_count": 1,
   "id": "b11b71f8",
   "metadata": {},
   "outputs": [],
   "source": [
    "from PIL import Image as img"
   ]
  },
  {
   "cell_type": "code",
   "execution_count": 2,
   "id": "afec7f6a",
   "metadata": {},
   "outputs": [],
   "source": [
    "with open(\"teste.txt\") as f: \n",
    "    lines = f.read().splitlines () \n",
    "    img = img.open(\"Base.png\") \n",
    "    width = img.size [0] \n",
    "    height = img.size [1] \n",
    "    for i in range(0, width): \n",
    "        for j in range(0, height):  \n",
    "            data = img.getpixel ((i,j)) \n",
    "            if lines[i*width+j] == \"0\": \n",
    "                img.putpixel ((i,j) ,(0,0,0)) \n",
    "img.show() \n"
   ]
  }
 ],
 "metadata": {
  "kernelspec": {
   "display_name": "Python 3 (ipykernel)",
   "language": "python",
   "name": "python3"
  },
  "language_info": {
   "codemirror_mode": {
    "name": "ipython",
    "version": 3
   },
   "file_extension": ".py",
   "mimetype": "text/x-python",
   "name": "python",
   "nbconvert_exporter": "python",
   "pygments_lexer": "ipython3",
   "version": "3.10.6"
  }
 },
 "nbformat": 4,
 "nbformat_minor": 5
}
