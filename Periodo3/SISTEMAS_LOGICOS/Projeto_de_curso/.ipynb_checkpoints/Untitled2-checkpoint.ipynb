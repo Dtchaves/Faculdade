{
 "cells": [
  {
   "cell_type": "code",
   "execution_count": 7,
   "id": "d24bac0d",
   "metadata": {},
   "outputs": [],
   "source": [
    "import cv2"
   ]
  },
  {
   "cell_type": "code",
   "execution_count": 8,
   "id": "76271a96",
   "metadata": {},
   "outputs": [],
   "source": [
    "CHAVE_LFSR = cv2.imread('chave_n=.jpg')\n",
    "IMAGEM_BITMAP = cv2.imread('pirata.jpg')"
   ]
  },
  {
   "cell_type": "code",
   "execution_count": 9,
   "id": "fd147fc6",
   "metadata": {},
   "outputs": [],
   "source": [
    "cv2.imshow('Imagem Original', IMAGEM_BITMAP)\n",
    "cv2.waitKey(0)\n",
    "cv2.destroyAllWindows()"
   ]
  },
  {
   "cell_type": "code",
   "execution_count": 10,
   "id": "13e6da29",
   "metadata": {},
   "outputs": [],
   "source": [
    "cv2.imshow('Imagem Chave', CHAVE_LFSR)\n",
    "cv2.waitKey(0)\n",
    "cv2.destroyAllWindows()"
   ]
  },
  {
   "cell_type": "code",
   "execution_count": 12,
   "id": "56f0c7e0",
   "metadata": {},
   "outputs": [
    {
     "data": {
      "text/plain": [
       "True"
      ]
     },
     "execution_count": 12,
     "metadata": {},
     "output_type": "execute_result"
    }
   ],
   "source": [
    "result1 = cv2.bitwise_xor(CHAVE_LFSR, IMAGEM_BITMAP)\n",
    "cv2.imshow('Imagem Criptografada', result1)\n",
    "cv2.waitKey(0)\n",
    "cv2.destroyAllWindows()\n",
    "cv2.imwrite('resultados/Imagem_Criptografada.jpg', result1)"
   ]
  },
  {
   "cell_type": "code",
   "execution_count": 13,
   "id": "1a0068fe",
   "metadata": {},
   "outputs": [
    {
     "data": {
      "text/plain": [
       "True"
      ]
     },
     "execution_count": 13,
     "metadata": {},
     "output_type": "execute_result"
    }
   ],
   "source": [
    "result2 = cv2.bitwise_xor(CHAVE_LFSR, result1)\n",
    "cv2.imshow('Imagem Descriptografada', result2)\n",
    "cv2.waitKey(0)\n",
    "cv2.destroyAllWindows()\n",
    "cv2.imwrite('resultados/Imagem_Descriptografada.jpg', result2)"
   ]
  },
  {
   "cell_type": "code",
   "execution_count": null,
   "id": "502748f8",
   "metadata": {},
   "outputs": [],
   "source": []
  }
 ],
 "metadata": {
  "kernelspec": {
   "display_name": "Python 3 (ipykernel)",
   "language": "python",
   "name": "python3"
  },
  "language_info": {
   "codemirror_mode": {
    "name": "ipython",
    "version": 3
   },
   "file_extension": ".py",
   "mimetype": "text/x-python",
   "name": "python",
   "nbconvert_exporter": "python",
   "pygments_lexer": "ipython3",
   "version": "3.10.6"
  }
 },
 "nbformat": 4,
 "nbformat_minor": 5
}
